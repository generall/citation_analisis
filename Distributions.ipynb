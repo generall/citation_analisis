{
 "cells": [
  {
   "cell_type": "code",
   "execution_count": 1,
   "metadata": {
    "collapsed": true
   },
   "outputs": [],
   "source": [
    "import matplotlib.pyplot as plt\n",
    "%matplotlib inline"
   ]
  },
  {
   "cell_type": "code",
   "execution_count": 2,
   "metadata": {
    "collapsed": true
   },
   "outputs": [],
   "source": [
    "from network import *"
   ]
  },
  {
   "cell_type": "code",
   "execution_count": 3,
   "metadata": {
    "collapsed": true
   },
   "outputs": [],
   "source": [
    "from collections import Counter\n",
    "import math\n",
    "from scipy.stats import power_divergence\n"
   ]
  },
  {
   "cell_type": "code",
   "execution_count": null,
   "metadata": {
    "collapsed": true
   },
   "outputs": [],
   "source": [
    "def plot_xy_line(x, y):\n",
    "    plt.plot(x, y)\n",
    "    plt.show()"
   ]
  },
  {
   "cell_type": "code",
   "execution_count": null,
   "metadata": {
    "collapsed": false
   },
   "outputs": [],
   "source": [
    "def plot_xy_dot(x, y):\n",
    "    plt.plot(x, y, '.', markersize=2)\n",
    "    plt.show()"
   ]
  },
  {
   "cell_type": "code",
   "execution_count": null,
   "metadata": {
    "collapsed": true
   },
   "outputs": [],
   "source": [
    "def plot_xy_point(x, y):\n",
    "    plt.plot(x, y, 'o', markersize=3, alpha=0.5)\n",
    "    plt.show()"
   ]
  },
  {
   "cell_type": "code",
   "execution_count": null,
   "metadata": {
    "collapsed": true
   },
   "outputs": [],
   "source": [
    "def convert(data, do):\n",
    "    if do:\n",
    "        return [math.log(x + 1) for x in data]\n",
    "    else:\n",
    "        return data"
   ]
  },
  {
   "cell_type": "code",
   "execution_count": null,
   "metadata": {
    "collapsed": true
   },
   "outputs": [],
   "source": [
    "def plot_pairs(pairs, plot_foo, log = False):\n",
    "    val = [x[1] for x in pairs]\n",
    "    plot_foo([x[0] for x in pairs], convert(val, log) )\n",
    "    print(power_divergence(val))"
   ]
  },
  {
   "cell_type": "code",
   "execution_count": null,
   "metadata": {
    "collapsed": false
   },
   "outputs": [],
   "source": [
    "def plor_rank(y, plot_foo, log = False):\n",
    "    val = list(range(0,len(y)))\n",
    "    plot_foo(val, convert(y, log) )\n",
    "    print(power_divergence(y))"
   ]
  },
  {
   "cell_type": "code",
   "execution_count": null,
   "metadata": {
    "collapsed": true
   },
   "outputs": [],
   "source": [
    "def plot_dict(stat, plot_foo, log = False):\n",
    "    plot_foo([x for x in stat.keys()], convert([x for x in stat.values()], log) )\n"
   ]
  },
  {
   "cell_type": "code",
   "execution_count": null,
   "metadata": {
    "collapsed": true
   },
   "outputs": [],
   "source": [
    "def plot_labels(xlabel, ylabel, title):\n",
    "    plt.xlabel(xlabel)\n",
    "    plt.ylabel(ylabel)\n",
    "    plt.title(title)"
   ]
  },
  {
   "cell_type": "code",
   "execution_count": 4,
   "metadata": {
    "collapsed": false,
    "scrolled": true
   },
   "outputs": [
    {
     "name": "stdout",
     "output_type": "stream",
     "text": [
      "Uniq authors: 42619\n"
     ]
    }
   ],
   "source": [
    "coauthorNetwork = CoauthorNetwork.load_with_loader(\"./data/out_test.txt\", parse_dataset_file);\n"
   ]
  },
  {
   "cell_type": "code",
   "execution_count": null,
   "metadata": {
    "collapsed": false,
    "scrolled": false
   },
   "outputs": [],
   "source": [
    "def neighbour_rank(graph, log = False):\n",
    "    vals = sorted([len(graph.neighbors(author)) for author in graph.nodes()], reverse=True)\n",
    "    plor_rank(vals, plot_xy_dot, log=log)\n",
    "\n",
    "plot_labels(\"Author rank\", \"Num. of coauthors\", \"Coauthors count graph\")\n",
    "neighbour_rank(coauthorNetwork.gr)\n",
    "\n",
    "plot_labels(\"Author rank\", \"Num. of cite (log)\", \"Cite count graph\")\n",
    "neighbour_rank(coauthorNetwork.cgr, log=True)"
   ]
  },
  {
   "cell_type": "code",
   "execution_count": null,
   "metadata": {
    "collapsed": false
   },
   "outputs": [],
   "source": [
    "def neighbour_dist(graph, log = False):\n",
    "    d = sorted(Counter([len(graph.neighbors(author)) for author in graph.nodes()]).items(), reverse=True)\n",
    "    plot_pairs(d, plot_xy_line, log)\n",
    "\n",
    "plot_labels(\"Num. of coauthors\", \"Count of authors\", \"Num. of coauthors distribution\")\n",
    "neighbour_dist(coauthorNetwork.gr)\n",
    "\n",
    "plot_labels(\"Num. of cite\", \"Count of authors(log)\", \"Num. of cite distribution\")\n",
    "neighbour_dist(coauthorNetwork.cgr, log=True)\n"
   ]
  },
  {
   "cell_type": "code",
   "execution_count": null,
   "metadata": {
    "collapsed": false
   },
   "outputs": [],
   "source": [
    "def in_degree_rank(graph, log=False):\n",
    "    vals = sorted([graph.in_degree(author) for author in graph.nodes()], reverse=True)\n",
    "    plor_rank(vals, plot_xy_line,log=log)\n",
    "\n",
    "def in_degree_dist(graph, log=False):\n",
    "    d = sorted(Counter([graph.in_degree(author) for author in graph.nodes()]).items(), reverse=True)\n",
    "    plot_pairs(d, plot_xy_line, log=log)\n",
    "    \n",
    "\n",
    "plot_labels(\"Author rank\", \"Num. of citation from others\", \"Cited count graph\")\n",
    "in_degree_rank(coauthorNetwork.cgr)\n",
    "\n",
    "plot_labels(\"Num. of citation from others\", \"Count of authors(log)\", \"Num. of cited distribution\")\n",
    "in_degree_dist(coauthorNetwork.cgr,log=True)\n"
   ]
  },
  {
   "cell_type": "code",
   "execution_count": null,
   "metadata": {
    "collapsed": false
   },
   "outputs": [],
   "source": [
    "def coauth_cite_plot(network):\n",
    "    p = [(network.cgr.in_degree(author), len(network.cgr.neighbors(author)))\n",
    "     for author in network.author_to_article.keys()]\n",
    "    plot_pairs(p, plot_xy_point)\n",
    "\n",
    "plot_labels(\"Num. of citation from others\", \"Number of coauthors\", \"Citation-coauthor distribution\")\n",
    "coauth_cite_plot(coauthorNetwork)"
   ]
  },
  {
   "cell_type": "code",
   "execution_count": null,
   "metadata": {
    "collapsed": false
   },
   "outputs": [],
   "source": [
    "def pub_rank(network, log = False):\n",
    "    r = sorted([len(x) for x in network.author_to_article.values()], reverse=True)\n",
    "    plor_rank(r, plot_xy_dot, log = log)\n",
    "\n",
    "def pub_dist(network, log = False):\n",
    "    r = sorted(Counter([len(x) for x in network.author_to_article.values()]).items(), reverse=True)\n",
    "    plot_pairs(r, plot_xy_line, log = log)\n",
    "    \n",
    "plot_labels(\"Author rank\", \"Number of publications\", \"Publication count graph\")\n",
    "pub_rank(coauthorNetwork)\n",
    "\n",
    "\n",
    "plot_labels(\"Count of publications\", \"Number of authors(log)\", \"Publication distribution graph\")\n",
    "pub_dist(coauthorNetwork, log = True)"
   ]
  },
  {
   "cell_type": "code",
   "execution_count": null,
   "metadata": {
    "collapsed": false
   },
   "outputs": [],
   "source": [
    "def coathorship_rank(network, log = False):\n",
    "    r = sorted([x for x in network.coauth_count.values()], reverse=True)\n",
    "    plor_rank(r, plot_xy_dot, log=log)\n",
    "    \n",
    "def coathorship_dist(network, log = False):\n",
    "    r = sorted(Counter([x for x in network.coauth_count.values()]).items(), reverse=True)\n",
    "    plot_pairs(r, plot_xy_line, log=log)\n",
    "    \n",
    "plot_labels(\"Author couple rank\", \"Number of publications\", \"Publications of author duet\")\n",
    "coathorship_rank(coauthorNetwork)\n",
    "\n",
    "\n",
    "plot_labels(\"Count of cooperative pulications\", \"Number of authors(log)\", \"Publications of author duet distribution\")\n",
    "coathorship_dist(coauthorNetwork, log = True)\n",
    "    "
   ]
  },
  {
   "cell_type": "code",
   "execution_count": null,
   "metadata": {
    "collapsed": false
   },
   "outputs": [],
   "source": [
    "def publication_year_dist(network, log=False):\n",
    "    p = []\n",
    "    for x in network.author_year.values():\n",
    "        for y in x:\n",
    "            if y > 1000:\n",
    "                p.append(y)\n",
    "    p = sorted(Counter(p).items(), key= lambda x: x[0], reverse=False)\n",
    "    \n",
    "    plot_pairs(p, plot_xy_line, log=log)\n",
    "\n",
    "plot_labels(\"Year\", \"Number of publication(log)\", \"Publication distribution over years\")\n",
    "\n",
    "publication_year_dist(coauthorNetwork, log=True)"
   ]
  }
 ],
 "metadata": {
  "kernelspec": {
   "display_name": "Python 3",
   "language": "python",
   "name": "python3"
  },
  "language_info": {
   "codemirror_mode": {
    "name": "ipython",
    "version": 3
   },
   "file_extension": ".py",
   "mimetype": "text/x-python",
   "name": "python",
   "nbconvert_exporter": "python",
   "pygments_lexer": "ipython3",
   "version": "3.5.1"
  }
 },
 "nbformat": 4,
 "nbformat_minor": 0
}
