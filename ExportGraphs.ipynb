{
 "cells": [
  {
   "cell_type": "code",
   "execution_count": 2,
   "metadata": {
    "collapsed": true
   },
   "outputs": [],
   "source": [
    "from network import *"
   ]
  },
  {
   "cell_type": "code",
   "execution_count": 3,
   "metadata": {
    "collapsed": false
   },
   "outputs": [
    {
     "name": "stdout",
     "output_type": "stream",
     "text": [
      "Uniq authors: 595630\n"
     ]
    }
   ],
   "source": [
    "coauthorNetwork = CoauthorNetwork.load_with_loader(\"./data/outputacm.txt\", parse_dataset_file);\n"
   ]
  },
  {
   "cell_type": "code",
   "execution_count": 4,
   "metadata": {
    "collapsed": false
   },
   "outputs": [],
   "source": [
    "coauthorNetwork.write_gml_gr(\"coauthors.gml\")\n",
    "coauthorNetwork.write_gml_cgr(\"cite.gml\")\n",
    "coauthorNetwork.write_gml_bigr(\"bigr.gml\")\n"
   ]
  },
  {
   "cell_type": "code",
   "execution_count": 5,
   "metadata": {
    "collapsed": true
   },
   "outputs": [],
   "source": [
    "coauthorNetwork.write_net_gr(\"coauthors.net\")\n",
    "coauthorNetwork.write_net_cgr(\"cite.net\")\n",
    "coauthorNetwork.write_net_bigr(\"bigr.net\")"
   ]
  }
 ],
 "metadata": {
  "anaconda-cloud": {},
  "kernelspec": {
   "display_name": "Python [default]",
   "language": "python",
   "name": "python3"
  },
  "language_info": {
   "codemirror_mode": {
    "name": "ipython",
    "version": 3
   },
   "file_extension": ".py",
   "mimetype": "text/x-python",
   "name": "python",
   "nbconvert_exporter": "python",
   "pygments_lexer": "ipython3",
   "version": "3.5.2"
  }
 },
 "nbformat": 4,
 "nbformat_minor": 0
}
