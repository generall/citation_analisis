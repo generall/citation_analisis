{
 "cells": [
  {
   "cell_type": "code",
   "execution_count": 1,
   "metadata": {
    "collapsed": false
   },
   "outputs": [],
   "source": [
    "#from pygraph.classes.graph import graph\n",
    "#from pygraph.readwrite import dot\n",
    "#from pygraph.algorithms.minmax import shortest_path\n",
    "#from pygraph.algorithms.accessibility import connected_components\n",
    "#from pygraph.algorithms.pagerank import pagerank"
   ]
  },
  {
   "cell_type": "code",
   "execution_count": 2,
   "metadata": {
    "collapsed": true
   },
   "outputs": [],
   "source": [
    "import numpy as np\n",
    "import matplotlib.mlab as mlab\n",
    "import matplotlib.pyplot as plt\n",
    "import re\n",
    "import networkx as nx\n",
    "%matplotlib inline"
   ]
  },
  {
   "cell_type": "code",
   "execution_count": 3,
   "metadata": {
    "collapsed": true
   },
   "outputs": [],
   "source": [
    "import itertools\n",
    "import random\n",
    "import statistics\n",
    "from itertools import islice\n"
   ]
  },
  {
   "cell_type": "code",
   "execution_count": 4,
   "metadata": {
    "collapsed": true
   },
   "outputs": [],
   "source": [
    "from scipy.stats import power_divergence"
   ]
  },
  {
   "cell_type": "code",
   "execution_count": 5,
   "metadata": {
    "collapsed": true
   },
   "outputs": [],
   "source": [
    "from sklearn.linear_model import LinearRegression"
   ]
  },
  {
   "cell_type": "code",
   "execution_count": 6,
   "metadata": {
    "collapsed": false
   },
   "outputs": [],
   "source": [
    "from network import *"
   ]
  },
  {
   "cell_type": "code",
   "execution_count": 7,
   "metadata": {
    "collapsed": true
   },
   "outputs": [],
   "source": [
    "import math"
   ]
  },
  {
   "cell_type": "code",
   "execution_count": 8,
   "metadata": {
    "collapsed": true
   },
   "outputs": [],
   "source": [
    "from loaders import *"
   ]
  },
  {
   "cell_type": "code",
   "execution_count": 9,
   "metadata": {
    "collapsed": true
   },
   "outputs": [],
   "source": [
    "from IPython.core.display import Image, display"
   ]
  },
  {
   "cell_type": "code",
   "execution_count": 10,
   "metadata": {
    "collapsed": true
   },
   "outputs": [],
   "source": [
    "\n",
    "def take(n, iterable):\n",
    "    \"Return first n items of the iterable as a list\"\n",
    "    return list(islice(iterable, n))"
   ]
  },
  {
   "cell_type": "code",
   "execution_count": 11,
   "metadata": {
    "collapsed": true
   },
   "outputs": [],
   "source": [
    "def plot_dict(stat, xlbl, ylbl):\n",
    "    plt.plot([x for x in stat.keys()], [x for x in stat.values()])\n",
    "    plt.xlabel(xlbl)\n",
    "    plt.ylabel(ylbl)\n",
    "    plt.show()"
   ]
  },
  {
   "cell_type": "code",
   "execution_count": 12,
   "metadata": {
    "collapsed": true
   },
   "outputs": [],
   "source": [
    "def plot_weighet_graph(graph, weights=None):\n",
    "    if weights == None:\n",
    "        weights = [1] * len(graph.nodes())\n",
    "    \n",
    "    nodesize = [weights[v] * 10000 for v in graph]\n",
    "    try:\n",
    "        pos=nx.nx_agraph.graphviz_layout(graph)\n",
    "    except:\n",
    "        pos=nx.spring_layout(graph,iterations=20)\n",
    "    nx.draw(graph, node_size=nodesize, pos=pos, node_color=\"w\")\n",
    "    nx.draw_networkx_labels(graph, pos)\n",
    "    "
   ]
  },
  {
   "cell_type": "code",
   "execution_count": 13,
   "metadata": {
    "collapsed": true
   },
   "outputs": [],
   "source": [
    "def get_time_seriece(weights_per_period, node):\n",
    "    return [weights.get(node, 0.0) for weights in weights_per_period]"
   ]
  },
  {
   "cell_type": "code",
   "execution_count": 14,
   "metadata": {
    "collapsed": true
   },
   "outputs": [],
   "source": [
    "def get_weights_in_period(file ,start, end):\n",
    "    coauthorNetwork = load_with_loader(file, parse_dataset_file, lambda article: start <= article.year < end)\n",
    "    (auth_subgraph, auth_weights, auth_sorted_nodes) = calc_pagerank(coauthorNetwork.gr)\n",
    "    (cite_subgraph, cite_weights, cite_sorted_nodes) = calc_pagerank(coauthorNetwork.cgr)\n",
    "    print(\"Top researchers\", cite_sorted_nodes[:10])\n",
    "    return ((auth_weights, auth_sorted_nodes), (cite_weights, cite_sorted_nodes) )"
   ]
  },
  {
   "cell_type": "code",
   "execution_count": 15,
   "metadata": {
    "collapsed": false
   },
   "outputs": [
    {
     "name": "stdout",
     "output_type": "stream",
     "text": [
      "Uniq authors: 42619\n"
     ]
    }
   ],
   "source": [
    "coauthorNetwork = CoauthorNetwork.load_with_loader(\"./data/out_test.txt\", parse_dataset_file);\n",
    "\n",
    "\n",
    "#run_analyse(\"./data/out_test.txt\")\n",
    "#run_analyse(\"./data/authors/Database.txt\")\n",
    "#run_analyse(\"./data/authors/Data Mining.txt\")\n",
    "#run_analyse(\"./data/authors/Theory.txt\")\n",
    "#run_analyse(\"./data/authors/Visualization.txt\")\n"
   ]
  },
  {
   "cell_type": "code",
   "execution_count": 16,
   "metadata": {
    "collapsed": false
   },
   "outputs": [
    {
     "name": "stdout",
     "output_type": "stream",
     "text": [
      " \n",
      "Connected component distribution (log-scale)\n"
     ]
    },
    {
     "data": {
      "image/png": "[encoded data removed]",
      "text/plain": [
       "<matplotlib.figure.Figure at 0x7f5c88188748>"
      ]
     },
     "metadata": {},
     "output_type": "display_data"
    },
    {
     "name": "stdout",
     "output_type": "stream",
     "text": [
      "Power_divergenceResult(statistic=3128355.7077359874, pvalue=0.0)\n",
      "Connected component count: 15871\n",
      "----------\n",
      "Authors count: 2870\n",
      "Mean distance: 13.403073170731707\n",
      " \n",
      "Distance distribution\n"
     ]
    },
    {
     "data": {
      "image/png": "[encoded data removed]",
      "text/plain": [
       "<matplotlib.figure.Figure at 0x7f5c829db668>"
      ]
     },
     "metadata": {},
     "output_type": "display_data"
    },
    {
     "name": "stdout",
     "output_type": "stream",
     "text": [
      "----------\n",
      "Average degree node centrality: 2.154886998909448e-06\n",
      "Maxumum degree node centrality: 0.0007508564456333005\n",
      "Degree graph centrality: 1.7568555420742564e-08\n",
      "----------\n"
     ]
    },
    {
     "ename": "TypeError",
     "evalue": "cannot convert dictionary update sequence element #0 to a sequence",
     "output_type": "error",
     "traceback": [
      "\u001b[1;31m---------------------------------------------------------------------------\u001b[0m",
      "\u001b[1;31mTypeError\u001b[0m                                 Traceback (most recent call last)",
      "\u001b[1;32m<ipython-input-16-0ada34208d02>\u001b[0m in \u001b[0;36m<module>\u001b[1;34m()\u001b[0m\n\u001b[0;32m      1\u001b[0m \u001b[0mcoauthorNetwork\u001b[0m\u001b[1;33m.\u001b[0m\u001b[0mgen_components\u001b[0m\u001b[1;33m(\u001b[0m\u001b[1;33m)\u001b[0m\u001b[1;33m\u001b[0m\u001b[0m\n\u001b[0;32m      2\u001b[0m \u001b[0mcoauthorNetwork\u001b[0m\u001b[1;33m.\u001b[0m\u001b[0manalize_component\u001b[0m\u001b[1;33m(\u001b[0m\u001b[1;33m)\u001b[0m\u001b[1;33m\u001b[0m\u001b[0m\n\u001b[1;32m----> 3\u001b[1;33m \u001b[0mcoauthorNetwork\u001b[0m\u001b[1;33m.\u001b[0m\u001b[0mprint_info_component\u001b[0m\u001b[1;33m(\u001b[0m\u001b[1;33m)\u001b[0m\u001b[1;33m\u001b[0m\u001b[0m\n\u001b[0m",
      "\u001b[1;32m/home/generall/sources/upwork/ahmed/network.py\u001b[0m in \u001b[0;36mprint_info_component\u001b[1;34m(self)\u001b[0m\n\u001b[0;32m    119\u001b[0m         \u001b[0mcstat\u001b[0m \u001b[1;33m=\u001b[0m \u001b[0mget_centrality_stat\u001b[0m\u001b[1;33m(\u001b[0m\u001b[0mself\u001b[0m\u001b[1;33m.\u001b[0m\u001b[0mcgr\u001b[0m\u001b[1;33m)\u001b[0m\u001b[1;33m\u001b[0m\u001b[0m\n\u001b[0;32m    120\u001b[0m         \u001b[0msorted_cstat\u001b[0m \u001b[1;33m=\u001b[0m \u001b[0msorted\u001b[0m\u001b[1;33m(\u001b[0m\u001b[0mcstat\u001b[0m\u001b[1;33m,\u001b[0m \u001b[0mreverse\u001b[0m\u001b[1;33m=\u001b[0m\u001b[1;32mTrue\u001b[0m\u001b[1;33m)\u001b[0m\u001b[1;33m\u001b[0m\u001b[0m\n\u001b[1;32m--> 121\u001b[1;33m         \u001b[0mplot_dict\u001b[0m\u001b[1;33m(\u001b[0m\u001b[0mdict\u001b[0m\u001b[1;33m(\u001b[0m\u001b[0msorted_cstat\u001b[0m\u001b[1;33m)\u001b[0m\u001b[1;33m,\u001b[0m \u001b[1;34m\"rank\"\u001b[0m\u001b[1;33m,\u001b[0m \u001b[1;34m\"log node centrality\"\u001b[0m\u001b[1;33m)\u001b[0m\u001b[1;33m\u001b[0m\u001b[0m\n\u001b[0m\u001b[0;32m    122\u001b[0m \u001b[1;33m\u001b[0m\u001b[0m\n\u001b[0;32m    123\u001b[0m \u001b[1;33m\u001b[0m\u001b[0m\n",
      "\u001b[1;31mTypeError\u001b[0m: cannot convert dictionary update sequence element #0 to a sequence"
     ]
    }
   ],
   "source": [
    "coauthorNetwork.gen_components()\n",
    "coauthorNetwork.analize_component()\n",
    "coauthorNetwork.print_info_component()"
   ]
  },
  {
   "cell_type": "code",
   "execution_count": null,
   "metadata": {
    "collapsed": false
   },
   "outputs": [],
   "source": [
    "# Analyse time series\n",
    "'''\n",
    "file = \"./data/out_test.txt\"\n",
    "\n",
    "coauthorNetwork = load_with_loader(file, parse_dataset_file)\n",
    "nodes_count = len(coauthorNetwork.gr.nodes())\n",
    "\n",
    "train_authros = coauthorNetwork.gr.nodes()[:nodes_count // 2]\n",
    "test_authors = coauthorNetwork.gr.nodes()[nodes_count // 2:]\n",
    "\n",
    "weights_per_period = []\n",
    "weights_per_period.append(get_weights_in_period(file, 1990, 1995))\n",
    "weights_per_period.append(get_weights_in_period(file, 1995, 2000))\n",
    "weights_per_period.append(get_weights_in_period(file, 2000, 2005))\n",
    "weights_per_period.append(get_weights_in_period(file, 2005, 2010))\n",
    "\n",
    "weights_per_period_auth = [ w[0][0] for w in weights_per_period ]\n",
    "weights_per_period_cite = [ w[1][0] for w in weights_per_period ]\n",
    "\n",
    "x_train = [get_time_seriece(weights_per_period_auth, author) \n",
    "           + get_time_seriece(weights_per_period_cite[0:-1], author) for author in test_authors]\n",
    "y_train = [weights_per_period_cite[-1].get(author, 0.0) for author in test_authors ]\n",
    "\n",
    "# print(\"x_train\", x_train[0:10])\n",
    "# print(\"y_train\", y_train[0:10])\n",
    "x_test = [get_time_seriece(weights_per_period_auth, author) \n",
    "           + get_time_seriece(weights_per_period_cite[0:-1], author) for author in test_authors]\n",
    "y_test = [weights_per_period_cite[-1].get(author, 0.0) for author in test_authors ]\n",
    "\n",
    "lm = LinearRegression(normalize=True)\n",
    "lm.fit(x_train, y_train)\n",
    "\n",
    "for pair in zip(lm.predict(x_test)[0:10], y_test[0:10]):\n",
    "    print(pair)\n",
    "    \n",
    "# print(lm.predict(x_test)[0:10])\n",
    "# print(y_test[0:10])\n",
    "'''\n"
   ]
  }
 ],
 "metadata": {
  "anaconda-cloud": {},
  "kernelspec": {
   "display_name": "Python 3",
   "language": "python",
   "name": "python3"
  },
  "language_info": {
   "codemirror_mode": {
    "name": "ipython",
    "version": 3
   },
   "file_extension": ".py",
   "mimetype": "text/x-python",
   "name": "python",
   "nbconvert_exporter": "python",
   "pygments_lexer": "ipython3",
   "version": "3.5.1"
  }
 },
 "nbformat": 4,
 "nbformat_minor": 0
}
