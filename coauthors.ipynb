{
 "cells": [
  {
   "cell_type": "code",
   "execution_count": 10,
   "metadata": {
    "collapsed": false
   },
   "outputs": [],
   "source": [
    "from pygraph.classes.graph import graph\n",
    "from pygraph.readwrite import dot\n",
    "from pygraph.algorithms.minmax import shortest_path\n",
    "from pygraph.algorithms.accessibility import connected_components\n",
    "from pygraph.algorithms.pagerank import pagerank"
   ]
  },
  {
   "cell_type": "code",
   "execution_count": 11,
   "metadata": {
    "collapsed": true
   },
   "outputs": [],
   "source": [
    "import numpy as np\n",
    "import matplotlib.mlab as mlab\n",
    "import matplotlib.pyplot as plt\n",
    "import re\n",
    "%matplotlib inline"
   ]
  },
  {
   "cell_type": "code",
   "execution_count": 21,
   "metadata": {
    "collapsed": true
   },
   "outputs": [],
   "source": [
    "import itertools\n",
    "import random\n",
    "import statistics"
   ]
  },
  {
   "cell_type": "code",
   "execution_count": 7,
   "metadata": {
    "collapsed": true
   },
   "outputs": [],
   "source": [
    "from network import *"
   ]
  },
  {
   "cell_type": "code",
   "execution_count": 14,
   "metadata": {
    "collapsed": true
   },
   "outputs": [],
   "source": [
    "from IPython.core.display import Image, display"
   ]
  },
  {
   "cell_type": "code",
   "execution_count": 12,
   "metadata": {
    "collapsed": true
   },
   "outputs": [],
   "source": [
    "def construct_graph_filtered(old_graph, node_predicate, egde_predicate):\n",
    "    new_graph = graph()\n",
    "    for node in old_graph.nodes():\n",
    "        if node_predicate(node):\n",
    "            new_graph.add_node(node)\n",
    "    for edge in old_graph.edges():\n",
    "        if not new_graph.has_edge(edge):\n",
    "            if node_predicate(edge[0]) and node_predicate(edge[1]) and egde_predicate(edge):\n",
    "                new_graph.add_edge(edge)\n",
    "    return new_graph"
   ]
  },
  {
   "cell_type": "code",
   "execution_count": 2,
   "metadata": {
    "collapsed": true
   },
   "outputs": [],
   "source": [
    "def load_authors_dataset(filename):\n",
    "    f = open(filename, 'r')\n",
    "    for line in f:\n",
    "        [journal, title, authors, year, abstract] = line.split(\"\\t\")\n",
    "        yield Article(title, authors.split(\",\") if authors != \"\" else [], year, journal, abstract, None, [])    "
   ]
  },
  {
   "cell_type": "code",
   "execution_count": 5,
   "metadata": {
    "collapsed": true
   },
   "outputs": [],
   "source": [
    "def parse_dataset_file(filename):\n",
    "    paper_title_regexp = re.compile('#\\*(.*)\\n')\n",
    "    authors_regexp = re.compile('#@(.*)\\n')\n",
    "    year_regexp = re.compile('#t(.*)\\n')\n",
    "    publication_venue_regexp = re.compile('#c(.*)\\n')\n",
    "    paper_index_regexp = re.compile('#index(.*)\\n')\n",
    "    references_ids_regexp = re.compile('#%(.*)\\n')\n",
    "    \n",
    "    f = open(filename, 'r')\n",
    "    \n",
    "    paper_title = authors = publication_venue = paper_index_id = ''\n",
    "    year = -1\n",
    "    references_ids = []\n",
    "    \n",
    "    for line in f:\n",
    "        if paper_title_regexp.search(line) is not None:\n",
    "            paper_title = paper_title_regexp.search(line).group(1)\n",
    "        elif authors_regexp.search(line) is not None:\n",
    "            authors = authors_regexp.search(line).group(1)\n",
    "        elif year_regexp.search(line) is not None:\n",
    "            year = year_regexp.search(line).group(1)\n",
    "        elif publication_venue_regexp.search(line) is not None:\n",
    "            publication_venue = publication_venue_regexp.search(line).group(1)\n",
    "        elif paper_index_regexp.search(line) is not None:\n",
    "            paper_index = paper_index_regexp.search(line).group(1)\n",
    "        elif references_ids_regexp.search(line) is not None:\n",
    "            references_ids.append(references_ids_regexp.search(line).group(1))\n",
    "        elif line == \"\\n\":\n",
    "            yield Article(paper_title, authors.split(\",\") \n",
    "                          if authors != '' else [], year, publication_venue, paper_index, None, references_ids)\n",
    "            paper_title = authors = publication_venue = paper_index_id = ''\n",
    "            year = -1\n",
    "            references_ids = []"
   ]
  },
  {
   "cell_type": "code",
   "execution_count": 8,
   "metadata": {
    "collapsed": false
   },
   "outputs": [
    {
     "name": "stdout",
     "output_type": "stream",
     "text": [
      "Uniq authors: 18335\n"
     ]
    }
   ],
   "source": [
    "def analyse(file, loader):\n",
    "    coauthorNetwork = CoauthorNetwork()\n",
    "    for article in loader(file):\n",
    "        coauthorNetwork.add_article(article)\n",
    "\n",
    "    print(\"Uniq authors:\", len([x for x in coauthorNetwork.author_to_article.keys()]))\n",
    "    return coauthorNetwork\n",
    "    \n",
    "#file = \"./data/authors/Medical Informatics.txt\"\n",
    "file = \"./data/out_test.txt\"\n",
    "coauthorNetwork = analyse(file, parse_dataset_file)\n",
    "components = connected_components(coauthorNetwork.gr)\n",
    "\n",
    "\n",
    "#!dot 'graph.dot' -Tpng -o \"graph.png\"\n",
    "#display(Image('graph.png' ))"
   ]
  },
  {
   "cell_type": "code",
   "execution_count": 14,
   "metadata": {
    "collapsed": false
   },
   "outputs": [],
   "source": [
    "# calculate distance distribution for \n",
    "# detect small world phenomenon\n",
    "def get_distance_stat(graph, n):\n",
    "    stat = {}\n",
    "    summ = len(graph.nodes()) * n\n",
    "    for i in range(n): # iterative calculation of shortest path\n",
    "        random_author = random.choice(graph.nodes())\n",
    "        distances = shortest_path(graph, random_author)[1]\n",
    "        for x in distances.values():\n",
    "            stat[x] = stat.get(x, 0) + 1;\n",
    "    return dict( (key, value / summ) for key, value in stat.items() )\n",
    "        "
   ]
  },
  {
   "cell_type": "code",
   "execution_count": 25,
   "metadata": {
    "collapsed": true
   },
   "outputs": [],
   "source": [
    "from itertools import islice\n",
    "\n",
    "def take(n, iterable):\n",
    "    \"Return first n items of the iterable as a list\"\n",
    "    return list(islice(iterable, n))"
   ]
  },
  {
   "cell_type": "code",
   "execution_count": 38,
   "metadata": {
    "collapsed": true
   },
   "outputs": [],
   "source": [
    "import networkx as nx\n",
    "#calculate centrality statistics\n",
    "def get_centrality_stat(graph):\n",
    "    N = 10\n",
    "    centrality_stat = nx.degree_centrality(graph)\n",
    "    print(\"----------\")\n",
    "    print(\"Average degree node centrality:\", sum(centrality_stat.values())/len(centrality_stat) )\n",
    "    \n",
    "    max_centrality = max(centrality_stat.values())\n",
    "    print(\"Maxumum degree node centrality:\", max_centrality)\n",
    "    \n",
    "    nodes_num = len(graph.nodes())\n",
    "    print(\"Degree graph centrality:\", \n",
    "          sum([max_centrality - x for x in centrality_stat.values()])/((nodes_num - 1)*(nodes_num - 2)))\n",
    "    \n",
    "    print(\"----------\")\n",
    "    \n",
    "    return dict((key, centrality_stat.get(key)) for key in take(N, centrality_stat) )\n",
    "        "
   ]
  },
  {
   "cell_type": "code",
   "execution_count": 2,
   "metadata": {
    "collapsed": true
   },
   "outputs": [],
   "source": [
    "def calc_pagerank(graph):\n",
    "    TOP = 10\n",
    "    percent_threshold = 0.1\n",
    "    weighted_nodes = pagerank(graph)\n",
    "    sorted_authors = sorted(weighted_nodes.items(), key = lambda pair: -pair[1])\n",
    "    author_rank = dict( (val, idx) for idx, val in enumerate(sorted_authors.keys()))\n",
    "    threshold = author_rank[round(len(author_rank) * percent_threshold )]\n",
    "    top_subgraph = construct_graph_filtered\n",
    "    \n",
    "    "
   ]
  },
  {
   "cell_type": "code",
   "execution_count": 30,
   "metadata": {
    "collapsed": false,
    "scrolled": true
   },
   "outputs": [],
   "source": [
    "def analize_components(coauthorNetwork, components, component_num):\n",
    "    print(\"----------\")\n",
    "    print(\"Component:\", component_num)\n",
    "    PRECISION = 50 # number of authors to calc avg distance\n",
    "\n",
    "    component_sizes = {}\n",
    "\n",
    "    for author, component in components.items():\n",
    "        component_sizes[component] = component_sizes.get(component, 0) + 1\n",
    "\n",
    "    top10_components = sorted(component_sizes.items(), key = lambda pair: -pair[1])[0:10]\n",
    "\n",
    "    top1_component = top10_components[component_num][0]\n",
    "\n",
    "    top1_subgraph = construct_graph_filtered(coauthorNetwork.gr,\n",
    "                                             lambda node: components[node] == top1_component,\n",
    "                                             lambda egde: True)\n",
    "    \n",
    "    print(\"Authors count:\",len(top1_subgraph.nodes()))\n",
    "    stat = get_distance_stat(top1_subgraph, PRECISION)\n",
    "    cstat = get_centrality_stat(coauthorNetwork.cgr)\n",
    "    print(\"Degree Nodes Centrality (first N elements):\", cstat)\n",
    "    #print(stat)\n",
    "    print(\"Mean distance:\", sum([value * key for key, value in stat.items()]))\n",
    "    plt.plot([x for x in stat.keys()], [x for x in stat.values()])\n",
    "    plt.show()\n"
   ]
  },
  {
   "cell_type": "code",
   "execution_count": 6,
   "metadata": {
    "collapsed": false
   },
   "outputs": [
    {
     "ename": "AttributeError",
     "evalue": "'graph' object has no attribute 'incidents'",
     "output_type": "error",
     "traceback": [
      "\u001b[0;31m---------------------------------------------------------------------------\u001b[0m",
      "\u001b[0;31mAttributeError\u001b[0m                            Traceback (most recent call last)",
      "\u001b[0;32m<ipython-input-6-6b1748d712f1>\u001b[0m in \u001b[0;36m<module>\u001b[0;34m()\u001b[0m\n\u001b[0;32m----> 1\u001b[0;31m \u001b[0mweighted_nodes\u001b[0m \u001b[0;34m=\u001b[0m \u001b[0mpagerank\u001b[0m\u001b[0;34m(\u001b[0m\u001b[0mcoauthorNetwork\u001b[0m\u001b[0;34m.\u001b[0m\u001b[0mgr\u001b[0m\u001b[0;34m)\u001b[0m\u001b[0;34m\u001b[0m\u001b[0m\n\u001b[0m",
      "\u001b[0;32m/home/fckm/anaconda3/lib/python3.5/site-packages/python_graph_core-1.8.2-py3.5.egg/pygraph/algorithms/pagerank.py\u001b[0m in \u001b[0;36mpagerank\u001b[0;34m(graph, damping_factor, max_iterations, min_delta)\u001b[0m\n\u001b[1;32m     64\u001b[0m         \u001b[0;32mfor\u001b[0m \u001b[0mnode\u001b[0m \u001b[0;32min\u001b[0m \u001b[0mnodes\u001b[0m\u001b[0;34m:\u001b[0m\u001b[0;34m\u001b[0m\u001b[0m\n\u001b[1;32m     65\u001b[0m             \u001b[0mrank\u001b[0m \u001b[0;34m=\u001b[0m \u001b[0mmin_value\u001b[0m\u001b[0;34m\u001b[0m\u001b[0m\n\u001b[0;32m---> 66\u001b[0;31m             \u001b[0;32mfor\u001b[0m \u001b[0mreferring_page\u001b[0m \u001b[0;32min\u001b[0m \u001b[0mgraph\u001b[0m\u001b[0;34m.\u001b[0m\u001b[0mincidents\u001b[0m\u001b[0;34m(\u001b[0m\u001b[0mnode\u001b[0m\u001b[0;34m)\u001b[0m\u001b[0;34m:\u001b[0m\u001b[0;34m\u001b[0m\u001b[0m\n\u001b[0m\u001b[1;32m     67\u001b[0m                 \u001b[0mrank\u001b[0m \u001b[0;34m+=\u001b[0m \u001b[0mdamping_factor\u001b[0m \u001b[0;34m*\u001b[0m \u001b[0mpagerank\u001b[0m\u001b[0;34m[\u001b[0m\u001b[0mreferring_page\u001b[0m\u001b[0;34m]\u001b[0m \u001b[0;34m/\u001b[0m \u001b[0mlen\u001b[0m\u001b[0;34m(\u001b[0m\u001b[0mgraph\u001b[0m\u001b[0;34m.\u001b[0m\u001b[0mneighbors\u001b[0m\u001b[0;34m(\u001b[0m\u001b[0mreferring_page\u001b[0m\u001b[0;34m)\u001b[0m\u001b[0;34m)\u001b[0m\u001b[0;34m\u001b[0m\u001b[0m\n\u001b[1;32m     68\u001b[0m \u001b[0;34m\u001b[0m\u001b[0m\n",
      "\u001b[0;31mAttributeError\u001b[0m: 'graph' object has no attribute 'incidents'"
     ]
    }
   ],
   "source": [
    "weighted_nodes = pagerank(coauthorNetwork.gr)"
   ]
  },
  {
   "cell_type": "code",
   "execution_count": 10,
   "metadata": {
    "collapsed": true
   },
   "outputs": [],
   "source": [
    "def run_analyse(file):\n",
    "    print(\"Dataset:\", file)\n",
    "    coauthorNetwork = analyse(file, parse_dataset_file)\n",
    "    components = connected_components(coauthorNetwork.gr)\n",
    "    component_count = max(components.values())\n",
    "    print(\"Connected component count:\", component_count)\n",
    "    analize_components(coauthorNetwork, components, 0)\n",
    "    analize_components(coauthorNetwork, components, 1)"
   ]
  },
  {
   "cell_type": "code",
   "execution_count": 40,
   "metadata": {
    "collapsed": false
   },
   "outputs": [
    {
     "name": "stdout",
     "output_type": "stream",
     "text": [
      "Dataset: ./data/out_test.txt\n",
      "Uniq authors: 185015\n",
      "Connected component count: 44853\n",
      "----------\n",
      "Component: 0\n",
      "Authors count: 72701\n",
      "----------\n",
      "Average degree node centrality:  9.628596297572231e-06\n",
      "Maxumum degree node centrality:  0.0011385612725737476\n",
      "Degree graph centrality:  6.150110186737271e-09\n",
      "----------\n",
      "Degree Centrality: {'56662': 2.1790646365047802e-05, '287454': 5.4476615912619505e-06, '60017': 0.0, '91633': 5.4476615912619505e-06, '42453': 0.0, '370392': 1.0895323182523901e-05, '22209': 1.6342984773785853e-05, '486293': 5.4476615912619505e-06, '91220': 0.0, '34242': 0.0}\n",
      "Mean distance: 8.673449883770516\n"
     ]
    },
    {
     "data": {
      "image/png": "[encoded data removed]",
      "text/plain": [
       "<matplotlib.figure.Figure at 0x7f1fed560780>"
      ]
     },
     "metadata": {},
     "output_type": "display_data"
    },
    {
     "name": "stdout",
     "output_type": "stream",
     "text": [
      "----------\n",
      "Component: 1\n",
      "Authors count: 162\n",
      "----------\n",
      "Average degree node centrality:  9.628596297572231e-06\n",
      "Maxumum degree node centrality:  0.0011385612725737476\n",
      "Degree graph centrality:  6.150110186737271e-09\n",
      "----------\n",
      "Degree Centrality: {'56662': 2.1790646365047802e-05, '287454': 5.4476615912619505e-06, '60017': 0.0, '91633': 5.4476615912619505e-06, '42453': 0.0, '370392': 1.0895323182523901e-05, '22209': 1.6342984773785853e-05, '486293': 5.4476615912619505e-06, '91220': 0.0, '34242': 0.0}\n",
      "Mean distance: 4.898641975308642\n"
     ]
    },
    {
     "data": {
      "image/png": "[encoded data removed]",
      "text/plain": [
       "<matplotlib.figure.Figure at 0x7f1fd34f1f98>"
      ]
     },
     "metadata": {},
     "output_type": "display_data"
    }
   ],
   "source": [
    "run_analyse(\"./data/out_test.txt\")\n",
    "#run_analyse(\"./data/authors/Database.txt\")\n",
    "#run_analyse(\"./data/authors/Data Mining.txt\")\n",
    "#run_analyse(\"./data/authors/Theory.txt\")\n",
    "#run_analyse(\"./data/authors/Visualization.txt\")\n"
   ]
  },
  {
   "cell_type": "code",
   "execution_count": 15,
   "metadata": {
    "collapsed": false
   },
   "outputs": [
    {
     "data": {
      "text/plain": [
       "[1, 2, 3, 4]"
      ]
     },
     "execution_count": 15,
     "metadata": {},
     "output_type": "execute_result"
    }
   ],
   "source": [
    "a = [1,2,3,4,5,6,7,8,9,10,11]\n",
    "a[:round(len(a) * 0.4)]"
   ]
  }
 ],
 "metadata": {
  "anaconda-cloud": {},
  "kernelspec": {
   "display_name": "Python [default]",
   "language": "python",
   "name": "python3"
  },
  "language_info": {
   "codemirror_mode": {
    "name": "ipython",
    "version": 3
   },
   "file_extension": ".py",
   "mimetype": "text/x-python",
   "name": "python",
   "nbconvert_exporter": "python",
   "pygments_lexer": "ipython3",
   "version": "3.5.2"
  }
 },
 "nbformat": 4,
 "nbformat_minor": 0
}
