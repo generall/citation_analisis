{
 "cells": [
  {
   "cell_type": "code",
   "execution_count": 1,
   "metadata": {
    "collapsed": true
   },
   "outputs": [],
   "source": [
    "import numpy as np\n",
    "import matplotlib.mlab as mlab\n",
    "import matplotlib.pyplot as plt\n",
    "import re\n",
    "import networkx as nx\n",
    "%matplotlib inline"
   ]
  },
  {
   "cell_type": "code",
   "execution_count": 2,
   "metadata": {
    "collapsed": false
   },
   "outputs": [],
   "source": [
    "import itertools\n",
    "import random\n",
    "import statistics\n",
    "from itertools import islice\n"
   ]
  },
  {
   "cell_type": "code",
   "execution_count": 3,
   "metadata": {
    "collapsed": true
   },
   "outputs": [],
   "source": [
    "from scipy.stats import power_divergence"
   ]
  },
  {
   "cell_type": "code",
   "execution_count": 4,
   "metadata": {
    "collapsed": true
   },
   "outputs": [],
   "source": [
    "from sklearn.linear_model import LinearRegression"
   ]
  },
  {
   "cell_type": "code",
   "execution_count": 5,
   "metadata": {
    "collapsed": false
   },
   "outputs": [],
   "source": [
    "from network import *"
   ]
  },
  {
   "cell_type": "code",
   "execution_count": 6,
   "metadata": {
    "collapsed": true
   },
   "outputs": [],
   "source": [
    "import math"
   ]
  },
  {
   "cell_type": "code",
   "execution_count": 7,
   "metadata": {
    "collapsed": true
   },
   "outputs": [],
   "source": [
    "from loaders import *"
   ]
  },
  {
   "cell_type": "code",
   "execution_count": 8,
   "metadata": {
    "collapsed": true
   },
   "outputs": [],
   "source": [
    "from IPython.core.display import Image, display"
   ]
  },
  {
   "cell_type": "code",
   "execution_count": 9,
   "metadata": {
    "collapsed": true
   },
   "outputs": [],
   "source": [
    "\n",
    "def take(n, iterable):\n",
    "    \"Return first n items of the iterable as a list\"\n",
    "    return list(islice(iterable, n))"
   ]
  },
  {
   "cell_type": "code",
   "execution_count": 10,
   "metadata": {
    "collapsed": true
   },
   "outputs": [],
   "source": [
    "def plot_labels(xlabel, ylabel, title):\n",
    "    plt.xlabel(xlabel)\n",
    "    plt.ylabel(ylabel)\n",
    "    plt.title(title)"
   ]
  },
  {
   "cell_type": "code",
   "execution_count": 11,
   "metadata": {
    "collapsed": true
   },
   "outputs": [],
   "source": [
    "def plot_dict(stat, xlbl, ylbl):\n",
    "    plt.plot([x for x in stat.keys()], [x for x in stat.values()])\n",
    "    plt.xlabel(xlbl)\n",
    "    plt.ylabel(ylbl)\n",
    "    plt.show()"
   ]
  },
  {
   "cell_type": "code",
   "execution_count": 12,
   "metadata": {
    "collapsed": true
   },
   "outputs": [],
   "source": [
    "def plot_weighet_graph(graph, weights=None):\n",
    "    if weights == None:\n",
    "        weights = [1] * len(graph.nodes())\n",
    "    \n",
    "    nodesize = [weights[v] * 10000 for v in graph]\n",
    "    try:\n",
    "        pos=nx.nx_agraph.graphviz_layout(graph)\n",
    "    except:\n",
    "        pos=nx.spring_layout(graph,iterations=20)\n",
    "    nx.draw(graph, node_size=nodesize, pos=pos, node_color=\"w\")\n",
    "    nx.draw_networkx_labels(graph, pos)\n",
    "    "
   ]
  },
  {
   "cell_type": "code",
   "execution_count": 13,
   "metadata": {
    "collapsed": true
   },
   "outputs": [],
   "source": [
    "def get_time_seriece(weights_per_period, node):\n",
    "    return [weights.get(node, 0.0) for weights in weights_per_period]"
   ]
  },
  {
   "cell_type": "code",
   "execution_count": 14,
   "metadata": {
    "collapsed": true
   },
   "outputs": [],
   "source": [
    "def get_weights_in_period(file ,start, end):\n",
    "    coauthorNetwork = load_with_loader(file, parse_dataset_file, lambda article: start <= article.year < end)\n",
    "    (auth_subgraph, auth_weights, auth_sorted_nodes) = calc_pagerank(coauthorNetwork.gr)\n",
    "    (cite_subgraph, cite_weights, cite_sorted_nodes) = calc_pagerank(coauthorNetwork.cgr)\n",
    "    print(\"Top researchers\", cite_sorted_nodes[:10])\n",
    "    return ((auth_weights, auth_sorted_nodes), (cite_weights, cite_sorted_nodes) )"
   ]
  },
  {
   "cell_type": "code",
   "execution_count": 15,
   "metadata": {
    "collapsed": false
   },
   "outputs": [
    {
     "name": "stdout",
     "output_type": "stream",
     "text": [
      "Uniq authors: 42619\n"
     ]
    }
   ],
   "source": [
    "coauthorNetwork = CoauthorNetwork.load_with_loader(\"./data/out_test.txt\", parse_dataset_file);\n",
    "\n",
    "\n",
    "#run_analyse(\"./data/out_test.txt\")\n",
    "#run_analyse(\"./data/authors/Database.txt\")\n",
    "#run_analyse(\"./data/authors/Data Mining.txt\")\n",
    "#run_analyse(\"./data/authors/Theory.txt\")\n",
    "#run_analyse(\"./data/authors/Visualization.txt\")\n"
   ]
  },
  {
   "cell_type": "code",
   "execution_count": 16,
   "metadata": {
    "collapsed": false
   },
   "outputs": [
    {
     "data": {
      "text/plain": [
       "'\\ncoauthorNetwork.gen_components()\\ncoauthorNetwork.analize_component()\\ncoauthorNetwork.print_info_component()\\n'"
      ]
     },
     "execution_count": 16,
     "metadata": {},
     "output_type": "execute_result"
    }
   ],
   "source": [
    "'''\n",
    "coauthorNetwork.gen_components()\n",
    "coauthorNetwork.analize_component()\n",
    "coauthorNetwork.print_info_component()\n",
    "'''"
   ]
  },
  {
   "cell_type": "code",
   "execution_count": 17,
   "metadata": {
    "collapsed": false
   },
   "outputs": [],
   "source": [
    "def calculate_cite_author_quantity_distribution(file, start, end):\n",
    "    coauthor_network = CoauthorNetwork.load_with_loader(file, parse_dataset_file, lambda article: start <= article.year < end)\n",
    "    dist = coauthor_network.calc_coauthor_cite_distribution()\n",
    "    plot_pairs(dist[0], \"number of coauthors\", \"article quantity\")\n",
    "    plot_pairs(dist[1], \"number of citations\", \"article quantity\")\n",
    "\n",
    "# calculate_cite_author_quantity_distribution(\"./data/out_test.txt\", 2000, 2001)"
   ]
  },
  {
   "cell_type": "code",
   "execution_count": 18,
   "metadata": {
    "collapsed": false,
    "scrolled": true
   },
   "outputs": [
    {
     "data": {
      "text/plain": [
       "'\\nfile = \"./data/out_test.txt\"\\n\\ncoauthorNetwork = load_with_loader(file, parse_dataset_file)\\nnodes_count = len(coauthorNetwork.gr.nodes())\\n\\ntrain_authros = coauthorNetwork.gr.nodes()[:nodes_count // 2]\\ntest_authors = coauthorNetwork.gr.nodes()[nodes_count // 2:]\\n\\nweights_per_period = []\\nweights_per_period.append(get_weights_in_period(file, 1990, 1995))\\nweights_per_period.append(get_weights_in_period(file, 1995, 2000))\\nweights_per_period.append(get_weights_in_period(file, 2000, 2005))\\nweights_per_period.append(get_weights_in_period(file, 2005, 2010))\\n\\nweights_per_period_auth = [ w[0][0] for w in weights_per_period ]\\nweights_per_period_cite = [ w[1][0] for w in weights_per_period ]\\n\\nx_train = [get_time_seriece(weights_per_period_auth, author) \\n           + get_time_seriece(weights_per_period_cite[0:-1], author) for author in test_authors]\\ny_train = [weights_per_period_cite[-1].get(author, 0.0) for author in test_authors ]\\n\\n# print(\"x_train\", x_train[0:10])\\n# print(\"y_train\", y_train[0:10])\\nx_test = [get_time_seriece(weights_per_period_auth, author) \\n           + get_time_seriece(weights_per_period_cite[0:-1], author) for author in test_authors]\\ny_test = [weights_per_period_cite[-1].get(author, 0.0) for author in test_authors ]\\n\\nlm = LinearRegression(normalize=True)\\nlm.fit(x_train, y_train)\\n\\nfor pair in zip(lm.predict(x_test)[0:10], y_test[0:10]):\\n    print(pair)\\n    \\n# print(lm.predict(x_test)[0:10])\\n# print(y_test[0:10])\\n'"
      ]
     },
     "execution_count": 18,
     "metadata": {},
     "output_type": "execute_result"
    }
   ],
   "source": [
    "# Analyse time series\n",
    "'''\n",
    "file = \"./data/out_test.txt\"\n",
    "\n",
    "coauthorNetwork = load_with_loader(file, parse_dataset_file)\n",
    "nodes_count = len(coauthorNetwork.gr.nodes())\n",
    "\n",
    "train_authros = coauthorNetwork.gr.nodes()[:nodes_count // 2]\n",
    "test_authors = coauthorNetwork.gr.nodes()[nodes_count // 2:]\n",
    "\n",
    "weights_per_period = []\n",
    "weights_per_period.append(get_weights_in_period(file, 1990, 1995))\n",
    "weights_per_period.append(get_weights_in_period(file, 1995, 2000))\n",
    "weights_per_period.append(get_weights_in_period(file, 2000, 2005))\n",
    "weights_per_period.append(get_weights_in_period(file, 2005, 2010))\n",
    "\n",
    "weights_per_period_auth = [ w[0][0] for w in weights_per_period ]\n",
    "weights_per_period_cite = [ w[1][0] for w in weights_per_period ]\n",
    "\n",
    "x_train = [get_time_seriece(weights_per_period_auth, author) \n",
    "           + get_time_seriece(weights_per_period_cite[0:-1], author) for author in test_authors]\n",
    "y_train = [weights_per_period_cite[-1].get(author, 0.0) for author in test_authors ]\n",
    "\n",
    "# print(\"x_train\", x_train[0:10])\n",
    "# print(\"y_train\", y_train[0:10])\n",
    "x_test = [get_time_seriece(weights_per_period_auth, author) \n",
    "           + get_time_seriece(weights_per_period_cite[0:-1], author) for author in test_authors]\n",
    "y_test = [weights_per_period_cite[-1].get(author, 0.0) for author in test_authors ]\n",
    "\n",
    "lm = LinearRegression(normalize=True)\n",
    "lm.fit(x_train, y_train)\n",
    "\n",
    "for pair in zip(lm.predict(x_test)[0:10], y_test[0:10]):\n",
    "    print(pair)\n",
    "    \n",
    "# print(lm.predict(x_test)[0:10])\n",
    "# print(y_test[0:10])\n",
    "'''\n"
   ]
  },
  {
   "cell_type": "code",
   "execution_count": 19,
   "metadata": {
    "collapsed": false
   },
   "outputs": [
    {
     "name": "stdout",
     "output_type": "stream",
     "text": [
      "Uniq authors: 42619\n"
     ]
    }
   ],
   "source": [
    "coauthorNetwork = CoauthorNetwork.load_with_loader(\"./data/out_test.txt\", parse_dataset_file)\n",
    "stats = coauthorNetwork.top_authors_cite_coauth_stat()"
   ]
  },
  {
   "cell_type": "code",
   "execution_count": 20,
   "metadata": {
    "collapsed": false
   },
   "outputs": [
    {
     "data": {
      "image/png": "[encoded data removed]",
      "text/plain": [
       "<matplotlib.figure.Figure at 0x7f6a7e177b70>"
      ]
     },
     "metadata": {},
     "output_type": "display_data"
    },
    {
     "data": {
      "image/png": "[encoded data removed]",
      "text/plain": [
       "<matplotlib.figure.Figure at 0x7f6a7e6c3080>"
      ]
     },
     "metadata": {},
     "output_type": "display_data"
    }
   ],
   "source": [
    "def render_stat(stat):\n",
    "    for idx, author in enumerate(stat):\n",
    "        rg = range(2000, 2010)\n",
    "        author_line = [author.get(year, 0) for year in rg]\n",
    "        plt.plot(list(rg), author_line, label=\"top\" + str(idx + 1) ) \n",
    "\n",
    "    plt.legend(bbox_to_anchor=(1.05, 1), loc=2, borderaxespad=0.)\n",
    "    plt.show()\n",
    "    \n",
    "plot_labels(\"Year\", \"Number of coauthors\", \"Co-authorship trend\")\n",
    "render_stat(stats[0])\n",
    "\n",
    "plot_labels(\"Year\", \"Number of cited\", \"Citation trend trend\")\n",
    "render_stat(stats[1])\n"
   ]
  },
  {
   "cell_type": "code",
   "execution_count": null,
   "metadata": {
    "collapsed": true
   },
   "outputs": [],
   "source": []
  }
 ],
 "metadata": {
  "anaconda-cloud": {},
  "kernelspec": {
   "display_name": "Python 3",
   "language": "python",
   "name": "python3"
  },
  "language_info": {
   "codemirror_mode": {
    "name": "ipython",
    "version": 3
   },
   "file_extension": ".py",
   "mimetype": "text/x-python",
   "name": "python",
   "nbconvert_exporter": "python",
   "pygments_lexer": "ipython3",
   "version": "3.5.1"
  }
 },
 "nbformat": 4,
 "nbformat_minor": 0
}
