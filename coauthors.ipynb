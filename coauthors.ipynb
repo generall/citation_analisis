{
 "cells": [
  {
   "cell_type": "code",
   "execution_count": 1,
   "metadata": {
    "collapsed": false
   },
   "outputs": [],
   "source": [
    "#from pygraph.classes.graph import graph\n",
    "#from pygraph.readwrite import dot\n",
    "#from pygraph.algorithms.minmax import shortest_path\n",
    "#from pygraph.algorithms.accessibility import connected_components\n",
    "#from pygraph.algorithms.pagerank import pagerank"
   ]
  },
  {
   "cell_type": "code",
   "execution_count": 2,
   "metadata": {
    "collapsed": true
   },
   "outputs": [],
   "source": [
    "import numpy as np\n",
    "import matplotlib.mlab as mlab\n",
    "import matplotlib.pyplot as plt\n",
    "import re\n",
    "%matplotlib inline"
   ]
  },
  {
   "cell_type": "code",
   "execution_count": 3,
   "metadata": {
    "collapsed": true
   },
   "outputs": [],
   "source": [
    "import itertools\n",
    "import random\n",
    "import statistics"
   ]
  },
  {
   "cell_type": "code",
   "execution_count": 4,
   "metadata": {
    "collapsed": true
   },
   "outputs": [],
   "source": [
    "from network import *"
   ]
  },
  {
   "cell_type": "code",
   "execution_count": 5,
   "metadata": {
    "collapsed": true
   },
   "outputs": [],
   "source": [
    "import math"
   ]
  },
  {
   "cell_type": "code",
   "execution_count": 6,
   "metadata": {
    "collapsed": true
   },
   "outputs": [],
   "source": [
    "from loaders import *"
   ]
  },
  {
   "cell_type": "code",
   "execution_count": 7,
   "metadata": {
    "collapsed": true
   },
   "outputs": [],
   "source": [
    "from IPython.core.display import Image, display"
   ]
  },
  {
   "cell_type": "code",
   "execution_count": 8,
   "metadata": {
    "collapsed": true
   },
   "outputs": [],
   "source": [
    "def construct_graph_filtered(old_graph, node_predicate, egde_predicate):\n",
    "    new_graph = nx.Graph()\n",
    "    for node in old_graph.nodes():\n",
    "        if node_predicate(node):\n",
    "            new_graph.add_node(node)\n",
    "    for edge in old_graph.edges():\n",
    "        if node_predicate(edge[0]) and node_predicate(edge[1]) and egde_predicate(edge):\n",
    "            new_graph.add_edge(edge)\n",
    "    return new_graph"
   ]
  },
  {
   "cell_type": "code",
   "execution_count": 9,
   "metadata": {
    "collapsed": false
   },
   "outputs": [],
   "source": [
    "# calculate distance distribution for \n",
    "# detect small world phenomenon\n",
    "def get_distance_stat(graph, n):\n",
    "    stat = {}\n",
    "    summ = len(graph.nodes()) * n\n",
    "    for i in range(n): # iterative calculation of shortest path\n",
    "        random_author = random.choice(graph.nodes())\n",
    "        distances = nx.shortest_path_length(graph, random_author)\n",
    "        for x in distances.values():\n",
    "            stat[x] = stat.get(x, 0) + 1;\n",
    "    return dict( (key, value / summ) for key, value in stat.items() )\n",
    "        "
   ]
  },
  {
   "cell_type": "code",
   "execution_count": 10,
   "metadata": {
    "collapsed": true
   },
   "outputs": [],
   "source": [
    "from itertools import islice\n",
    "\n",
    "def take(n, iterable):\n",
    "    \"Return first n items of the iterable as a list\"\n",
    "    return list(islice(iterable, n))"
   ]
  },
  {
   "cell_type": "code",
   "execution_count": 11,
   "metadata": {
    "collapsed": true
   },
   "outputs": [],
   "source": [
    "import networkx as nx\n",
    "#calculate centrality statistics\n",
    "def get_centrality_stat(graph):\n",
    "    N = 10\n",
    "    centrality_stat = nx.degree_centrality(graph)\n",
    "    print(\"----------\")\n",
    "    print(\"Average degree node centrality:\", sum(centrality_stat.values())/len(centrality_stat) )\n",
    "    \n",
    "    max_centrality = max(centrality_stat.values())\n",
    "    print(\"Maxumum degree node centrality:\", max_centrality)\n",
    "    \n",
    "    nodes_num = len(graph.nodes())\n",
    "    print(\"Degree graph centrality:\", \n",
    "          sum([max_centrality - x for x in centrality_stat.values()])/((nodes_num - 1)*(nodes_num - 2)))\n",
    "    \n",
    "    print(\"----------\")\n",
    "    \n",
    "    return dict((key, centrality_stat.get(key)) for key in take(N, centrality_stat) )\n",
    "        "
   ]
  },
  {
   "cell_type": "code",
   "execution_count": 38,
   "metadata": {
    "collapsed": false
   },
   "outputs": [],
   "source": [
    "def calc_pagerank(graph):\n",
    "    TOP = 10\n",
    "    percent_threshold = 0.1\n",
    "    weighted_nodes = nx.pagerank(graph)\n",
    "    sorted_nodes = sorted(weighted_nodes.items(), key = lambda pair: pair[1], reverse=True)\n",
    "    node_ranks = dict( (val, idx) for idx, val in enumerate(sorted_nodes))\n",
    "    print(sorted_nodes[0:TOP])\n",
    "    top_subgraph = graph.subgraph(sorted_nodes[0:TOP])\n",
    "    return (top_subgraph, weighted_nodes)\n",
    "    "
   ]
  },
  {
   "cell_type": "code",
   "execution_count": 13,
   "metadata": {
    "collapsed": true
   },
   "outputs": [],
   "source": [
    "def plot_dict(stat):\n",
    "    plt.plot([x for x in stat.keys()], [x for x in stat.values()])\n",
    "    plt.show()"
   ]
  },
  {
   "cell_type": "code",
   "execution_count": 30,
   "metadata": {
    "collapsed": true
   },
   "outputs": [],
   "source": [
    "def plot_weighet_graph(graph, weights=None):\n",
    "    if weights == None:\n",
    "        weights = [1] * len(graph.nodes())\n",
    "    \n",
    "    nodesize = [weights[v] * 1000 for v in graph]\n",
    "    try:\n",
    "        pos=nx.nx_agraph.graphviz_layout(graph)\n",
    "    except:\n",
    "        pos=nx.spring_layout(graph,iterations=20)\n",
    "    nx.draw(graph, node_size=nodesize, pos=pos, node_color=\"w\")\n",
    "    nx.draw_networkx_labels(graph, pos)\n",
    "    "
   ]
  },
  {
   "cell_type": "code",
   "execution_count": 23,
   "metadata": {
    "collapsed": false
   },
   "outputs": [
    {
     "name": "stdout",
     "output_type": "stream",
     "text": [
      "Uniq authors: 42635\n"
     ]
    }
   ],
   "source": [
    "coauthorNetwork = load_with_loader(\"./data/out_test.txt\", parse_dataset_file)"
   ]
  },
  {
   "cell_type": "code",
   "execution_count": 39,
   "metadata": {
    "collapsed": false
   },
   "outputs": [
    {
     "name": "stdout",
     "output_type": "stream",
     "text": [
      "[('Jr.', 0.0009360085662477807), ('Ed Tittel', 0.0002469903918469352), ('Jun Wang', 0.0002009450485087277), ('III', 0.00018773692610989042), ('Wei Wang', 0.0001634614842866844), ('Chin-Chen Chang', 0.00015570116026627652), ('II', 0.00015284283000308168), ('Thomas J. Cashman', 0.00015170613936089998), ('Gary B. Shelly', 0.00015170613936089998), ('Laurence T. Yang', 0.00014055678711042313)]\n",
      "\n"
     ]
    }
   ],
   "source": [
    "(subgraph, weights) = calc_pagerank(coauthorNetwork.gr)\n",
    "print(subgraph)\n",
    "\n",
    "\n",
    "#plot_weighet_graph(subgraph, weights)"
   ]
  },
  {
   "cell_type": "code",
   "execution_count": 14,
   "metadata": {
    "collapsed": false,
    "scrolled": true
   },
   "outputs": [],
   "source": [
    "def analize_component(coauthorNetwork, components, component_num):\n",
    "    print(\"----------\")\n",
    "    print(\"Component:\", component_num + 1)\n",
    "    PRECISION = 50 # number of authors to calc avg distance\n",
    "\n",
    "    component_sizes = dict( (idx, len(c)) for idx, c in enumerate(components) )\n",
    "\n",
    "    the_component = components[component_num]\n",
    "\n",
    "    component_subgraph = coauthorNetwork.gr.subgraph(the_component)\n",
    "    \n",
    "    print(\"Authors count:\",len(component_subgraph.nodes()))\n",
    "    stat = get_distance_stat(component_subgraph, PRECISION)\n",
    "    \n",
    "    print(\"Mean distance:\", sum([value * key for key, value in stat.items()]))\n",
    "    print(\" \")\n",
    "    print(\"Distance distribution\")\n",
    "    plot_dict(stat)\n",
    "    \n",
    "    cstat = get_centrality_stat(coauthorNetwork.cgr)\n",
    "    print(\"Degree Nodes Centrality (first N elements):\", cstat)\n",
    "    #print(stat)\n",
    "\n"
   ]
  },
  {
   "cell_type": "code",
   "execution_count": 15,
   "metadata": {
    "collapsed": false
   },
   "outputs": [],
   "source": [
    "def load_with_loader(file, loader):\n",
    "    coauthorNetwork = CoauthorNetwork()\n",
    "    for article in loader(file):\n",
    "        coauthorNetwork.add_article(article)\n",
    "\n",
    "    print(\"Uniq authors:\", len([x for x in coauthorNetwork.author_to_article.keys()]))\n",
    "    return coauthorNetwork\n",
    "    \n",
    "#file = \"./data/authors/Medical Informatics.txt\"\n",
    "#file = \"./data/out_test.txt\"\n",
    "#coauthorNetwork = analyse(file, parse_dataset_file)\n",
    "#components = connected_components(coauthorNetwork.gr)\n",
    "\n",
    "\n",
    "#!dot 'graph.dot' -Tpng -o \"graph.png\"\n",
    "#display(Image('graph.png' ))"
   ]
  },
  {
   "cell_type": "code",
   "execution_count": 16,
   "metadata": {
    "collapsed": false
   },
   "outputs": [],
   "source": [
    "def run_analyse(file):\n",
    "    print(\"Dataset:\", file)\n",
    "    coauthorNetwork = load_with_loader(file, parse_dataset_file)\n",
    "    \n",
    "    components = [c for c in sorted(nx.connected_components(coauthorNetwork.gr), key=len, reverse=True)]\n",
    "    \n",
    "    components_sizes = dict((idx, math.log10(float(len(c)))) for idx, c in enumerate(components))\n",
    "    print(\" \")\n",
    "    print(\"Connected component distribution (log-scale)\")\n",
    "    plot_dict(components_sizes)\n",
    "    \n",
    "    #components = connected_components(coauthorNetwork.gr)\n",
    "    component_count = len(components)\n",
    "    print(\"Connected component count:\", component_count)\n",
    "    \n",
    "    analize_component(coauthorNetwork, components, 0)"
   ]
  },
  {
   "cell_type": "code",
   "execution_count": 17,
   "metadata": {
    "collapsed": false
   },
   "outputs": [
    {
     "name": "stdout",
     "output_type": "stream",
     "text": [
      "Dataset: ./data/out_test.txt\n",
      "Uniq authors: 42635\n",
      " \n",
      "Connected component distribution (log-scale)\n"
     ]
    },
    {
     "data": {
      "image/png": "[encoded data removed]",
      "text/plain": [
       "<matplotlib.figure.Figure at 0x7fb9ac192d30>"
      ]
     },
     "metadata": {},
     "output_type": "display_data"
    },
    {
     "name": "stdout",
     "output_type": "stream",
     "text": [
      "Connected component count: 15797\n",
      "----------\n",
      "Component: 1\n",
      "Authors count: 3180\n",
      "Mean distance: 12.849748427672955\n",
      " \n",
      "Distance distribution\n"
     ]
    },
    {
     "data": {
      "image/png": "[encoded data removed]",
      "text/plain": [
       "<matplotlib.figure.Figure at 0x7fb984d6a828>"
      ]
     },
     "metadata": {},
     "output_type": "display_data"
    },
    {
     "name": "stdout",
     "output_type": "stream",
     "text": [
      "----------\n",
      "Average degree node centrality: 2.3147087665224052e-05\n",
      "Maxumum degree node centrality: 0.001685690892452921\n",
      "Degree graph centrality: 4.003814186637151e-08\n",
      "----------\n",
      "Degree Nodes Centrality (first N elements): {'20532': 0.0, '1022': 0.0, '298043': 4.8162596927226314e-05, '25205': 0.0, '13582': 0.0, '7112': 0.0, '17308': 0.0, '25407': 0.0, '7832': 0.0, '1754': 0.0}\n"
     ]
    }
   ],
   "source": [
    "run_analyse(\"./data/out_test.txt\")\n",
    "#run_analyse(\"./data/authors/Database.txt\")\n",
    "#run_analyse(\"./data/authors/Data Mining.txt\")\n",
    "#run_analyse(\"./data/authors/Theory.txt\")\n",
    "#run_analyse(\"./data/authors/Visualization.txt\")\n"
   ]
  },
  {
   "cell_type": "code",
   "execution_count": null,
   "metadata": {
    "collapsed": true
   },
   "outputs": [],
   "source": []
  }
 ],
 "metadata": {
  "anaconda-cloud": {},
  "kernelspec": {
   "display_name": "Python 3",
   "language": "python",
   "name": "python3"
  },
  "language_info": {
   "codemirror_mode": {
    "name": "ipython",
    "version": 3
   },
   "file_extension": ".py",
   "mimetype": "text/x-python",
   "name": "python",
   "nbconvert_exporter": "python",
   "pygments_lexer": "ipython3",
   "version": "3.5.1"
  }
 },
 "nbformat": 4,
 "nbformat_minor": 0
}
