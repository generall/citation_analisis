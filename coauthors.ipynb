{
 "cells": [
  {
   "cell_type": "code",
   "execution_count": 10,
   "metadata": {
    "collapsed": false
   },
   "outputs": [],
   "source": [
    "from pygraph.classes.graph import graph\n",
    "from pygraph.readwrite import dot\n",
    "from pygraph.algorithms.minmax import shortest_path\n",
    "from pygraph.algorithms.accessibility import connected_components\n",
    "from pygraph.algorithms.pagerank import pagerank"
   ]
  },
  {
   "cell_type": "code",
   "execution_count": 11,
   "metadata": {
    "collapsed": true
   },
   "outputs": [],
   "source": [
    "import numpy as np\n",
    "import matplotlib.mlab as mlab\n",
    "import matplotlib.pyplot as plt\n",
    "import re\n",
    "%matplotlib inline"
   ]
  },
  {
   "cell_type": "code",
   "execution_count": 12,
   "metadata": {
    "collapsed": true
   },
   "outputs": [],
   "source": [
    "import itertools\n",
    "import random\n",
    "import statistics"
   ]
  },
  {
   "cell_type": "code",
   "execution_count": 13,
   "metadata": {
    "collapsed": true
   },
   "outputs": [],
   "source": [
    "from network import *"
   ]
  },
  {
   "cell_type": "code",
   "execution_count": 14,
   "metadata": {
    "collapsed": true
   },
   "outputs": [],
   "source": [
    "from IPython.core.display import Image, display"
   ]
  },
  {
   "cell_type": "code",
   "execution_count": 15,
   "metadata": {
    "collapsed": true
   },
   "outputs": [],
   "source": [
    "def construct_graph_filtered(old_graph, node_predicate, egde_predicate):\n",
    "    new_graph = graph()\n",
    "    for node in old_graph.nodes():\n",
    "        if node_predicate(node):\n",
    "            new_graph.add_node(node)\n",
    "    for edge in old_graph.edges():\n",
    "        if not new_graph.has_edge(edge):\n",
    "            if node_predicate(edge[0]) and node_predicate(edge[1]) and egde_predicate(edge):\n",
    "                new_graph.add_edge(edge)\n",
    "    return new_graph"
   ]
  },
  {
   "cell_type": "code",
   "execution_count": 16,
   "metadata": {
    "collapsed": true
   },
   "outputs": [],
   "source": [
    "def load_authors_dataset(filename):\n",
    "    f = open(filename, 'r')\n",
    "    for line in f:\n",
    "        [journal, title, authors, year, abstract] = line.split(\"\\t\")\n",
    "        yield Article(title, authors.split(\",\") if authors != \"\" else [], year, journal, abstract, None, [])    "
   ]
  },
  {
   "cell_type": "code",
   "execution_count": 17,
   "metadata": {
    "collapsed": true
   },
   "outputs": [],
   "source": [
    "def parse_dataset_file(filename):\n",
    "    paper_title_regexp = re.compile('#\\*(.*)\\n')\n",
    "    authors_regexp = re.compile('#@(.*)\\n')\n",
    "    year_regexp = re.compile('#t(.*)\\n')\n",
    "    publication_venue_regexp = re.compile('#c(.*)\\n')\n",
    "    paper_index_regexp = re.compile('#index(.*)\\n')\n",
    "    references_ids_regexp = re.compile('#%(.*)\\n')\n",
    "    \n",
    "    f = open(filename, 'r')\n",
    "    \n",
    "    paper_title = authors = publication_venue = paper_index_id = ''\n",
    "    year = -1\n",
    "    references_ids = []\n",
    "    \n",
    "    for line in f:\n",
    "        if paper_title_regexp.search(line) is not None:\n",
    "            paper_title = paper_title_regexp.search(line).group(1)\n",
    "        elif authors_regexp.search(line) is not None:\n",
    "            authors = authors_regexp.search(line).group(1)\n",
    "        elif year_regexp.search(line) is not None:\n",
    "            year = year_regexp.search(line).group(1)\n",
    "        elif publication_venue_regexp.search(line) is not None:\n",
    "            publication_venue = publication_venue_regexp.search(line).group(1)\n",
    "        elif paper_index_regexp.search(line) is not None:\n",
    "            paper_index = paper_index_regexp.search(line).group(1)\n",
    "        elif references_ids_regexp.search(line) is not None:\n",
    "            references_ids.append(references_ids_regexp.search(line).group(1))\n",
    "        elif line == \"\\n\":\n",
    "            yield Article(paper_title, authors.split(\",\") \n",
    "                          if authors != '' else [], year, publication_venue, paper_index, None, references_ids)\n",
    "            paper_title = authors = publication_venue = paper_index_id = ''\n",
    "            year = -1\n",
    "            references_ids = []"
   ]
  },
  {
   "cell_type": "code",
   "execution_count": 18,
   "metadata": {
    "collapsed": false
   },
   "outputs": [
    {
     "name": "stdout",
     "output_type": "stream",
     "text": [
      "Uniq authors: 7343\n"
     ]
    }
   ],
   "source": [
    "def analyse(file, loader):\n",
    "    coauthorNetwork = CoathorNetwork()\n",
    "    for article in loader(file):\n",
    "        coauthorNetwork.add_article(article)\n",
    "\n",
    "    print(\"Uniq authors:\", len([x for x in coauthorNetwork.author_to_article.keys()]))\n",
    "    return coauthorNetwork\n",
    "    \n",
    "file = \"./data/authors/Medical Informatics.txt\"\n",
    "#file = \"./data/out_test.txt\"\n",
    "coauthorNetwork = analyse(file, load_authors_dataset)\n",
    "components = connected_components(coauthorNetwork.gr)\n",
    "\n",
    "\n",
    "#!dot 'graph.dot' -Tpng -o \"graph.png\"\n",
    "#display(Image('graph.png' ))"
   ]
  },
  {
   "cell_type": "code",
   "execution_count": 19,
   "metadata": {
    "collapsed": false
   },
   "outputs": [],
   "source": [
    "# calculate distance distribution for \n",
    "# detect small world phenomenon\n",
    "def get_distance_stat(graph, n):\n",
    "    stat = {}\n",
    "    summ = len(graph.nodes()) * n\n",
    "    for i in range(n): # iterative calculation of shortest path\n",
    "        random_author = random.choice(graph.nodes())\n",
    "        distances = shortest_path(graph, random_author)[1]\n",
    "        for x in distances.values():\n",
    "            stat[x] = stat.get(x, 0) + 1;\n",
    "    return dict( (key, value / summ) for key, value in stat.items() )\n",
    "        "
   ]
  },
  {
   "cell_type": "code",
   "execution_count": 20,
   "metadata": {
    "collapsed": true
   },
   "outputs": [],
   "source": [
    "def calc_pagerank(graph):\n",
    "    TOP = 10\n",
    "    percent_threshold = 0.1\n",
    "    weighted_nodes = pagerank(graph)\n",
    "    sorted_authors = sorted(weighted_nodes.items(), key = lambda pair: -pair[1])\n",
    "    author_rank = dict( (val, idx) for idx, val in enumerate(sorted_authors.keys()))\n",
    "    threshold = author_rank[round(len(author_rank) * percent_threshold )]\n",
    "    top_subgraph = construct_graph_filtered\n",
    "    \n",
    "    "
   ]
  },
  {
   "cell_type": "code",
   "execution_count": 32,
   "metadata": {
    "collapsed": false,
    "scrolled": true
   },
   "outputs": [],
   "source": [
    "def analize_components(coauthorNetwork, components, component_num):\n",
    "    print(\"----------\")\n",
    "    print(\"Component:\", component_num)\n",
    "    PRECISION = 50 # number of authors to calc avg distance\n",
    "\n",
    "    component_sizes = {}\n",
    "\n",
    "    for author, component in components.items():\n",
    "        component_sizes[component] = component_sizes.get(component, 0) + 1\n",
    "\n",
    "    top10_components = sorted(component_sizes.items(), key = lambda pair: -pair[1])[0:10]\n",
    "\n",
    "    top1_component = top10_components[component_num][0]\n",
    "\n",
    "    top1_subgraph = construct_graph_filtered(coauthorNetwork.gr,\n",
    "                                             lambda node: components[node] == top1_component,\n",
    "                                             lambda egde: True)\n",
    "    \n",
    "    print(\"Authors count:\",len(top1_subgraph.nodes()))\n",
    "    stat = get_distance_stat(top1_subgraph, PRECISION)\n",
    "    #print(stat)\n",
    "    print(\"Mean distance:\", sum([value * key for key, value in stat.items()]))\n",
    "    plt.plot([x for x in stat.keys()], [x for x in stat.values()])\n",
    "    plt.show()\n"
   ]
  },
  {
   "cell_type": "code",
   "execution_count": 43,
   "metadata": {
    "collapsed": false
   },
   "outputs": [
    {
     "ename": "AttributeError",
     "evalue": "'graph' object has no attribute 'incidents'",
     "output_type": "error",
     "traceback": [
      "\u001b[1;31m---------------------------------------------------------------------------\u001b[0m",
      "\u001b[1;31mAttributeError\u001b[0m                            Traceback (most recent call last)",
      "\u001b[1;32m<ipython-input-43-6b1748d712f1>\u001b[0m in \u001b[0;36m<module>\u001b[1;34m()\u001b[0m\n\u001b[1;32m----> 1\u001b[1;33m \u001b[0mweighted_nodes\u001b[0m \u001b[1;33m=\u001b[0m \u001b[0mpagerank\u001b[0m\u001b[1;33m(\u001b[0m\u001b[0mcoauthorNetwork\u001b[0m\u001b[1;33m.\u001b[0m\u001b[0mgr\u001b[0m\u001b[1;33m)\u001b[0m\u001b[1;33m\u001b[0m\u001b[0m\n\u001b[0m",
      "\u001b[1;32m/home/generall/.local/lib/python3.5/site-packages/pygraph/algorithms/pagerank.py\u001b[0m in \u001b[0;36mpagerank\u001b[1;34m(graph, damping_factor, max_iterations, min_delta)\u001b[0m\n\u001b[0;32m     64\u001b[0m         \u001b[1;32mfor\u001b[0m \u001b[0mnode\u001b[0m \u001b[1;32min\u001b[0m \u001b[0mnodes\u001b[0m\u001b[1;33m:\u001b[0m\u001b[1;33m\u001b[0m\u001b[0m\n\u001b[0;32m     65\u001b[0m             \u001b[0mrank\u001b[0m \u001b[1;33m=\u001b[0m \u001b[0mmin_value\u001b[0m\u001b[1;33m\u001b[0m\u001b[0m\n\u001b[1;32m---> 66\u001b[1;33m             \u001b[1;32mfor\u001b[0m \u001b[0mreferring_page\u001b[0m \u001b[1;32min\u001b[0m \u001b[0mgraph\u001b[0m\u001b[1;33m.\u001b[0m\u001b[0mincidents\u001b[0m\u001b[1;33m(\u001b[0m\u001b[0mnode\u001b[0m\u001b[1;33m)\u001b[0m\u001b[1;33m:\u001b[0m\u001b[1;33m\u001b[0m\u001b[0m\n\u001b[0m\u001b[0;32m     67\u001b[0m                 \u001b[0mrank\u001b[0m \u001b[1;33m+=\u001b[0m \u001b[0mdamping_factor\u001b[0m \u001b[1;33m*\u001b[0m \u001b[0mpagerank\u001b[0m\u001b[1;33m[\u001b[0m\u001b[0mreferring_page\u001b[0m\u001b[1;33m]\u001b[0m \u001b[1;33m/\u001b[0m \u001b[0mlen\u001b[0m\u001b[1;33m(\u001b[0m\u001b[0mgraph\u001b[0m\u001b[1;33m.\u001b[0m\u001b[0mneighbors\u001b[0m\u001b[1;33m(\u001b[0m\u001b[0mreferring_page\u001b[0m\u001b[1;33m)\u001b[0m\u001b[1;33m)\u001b[0m\u001b[1;33m\u001b[0m\u001b[0m\n\u001b[0;32m     68\u001b[0m \u001b[1;33m\u001b[0m\u001b[0m\n",
      "\u001b[1;31mAttributeError\u001b[0m: 'graph' object has no attribute 'incidents'"
     ]
    }
   ],
   "source": [
    "weighted_nodes = pagerank(coauthorNetwork.gr)"
   ]
  },
  {
   "cell_type": "code",
   "execution_count": 27,
   "metadata": {
    "collapsed": true
   },
   "outputs": [],
   "source": [
    "def run_analyse(file):\n",
    "    print(\"Dataset:\", file)\n",
    "    coauthorNetwork = analyse(file, load_authors_dataset)\n",
    "    components = connected_components(coauthorNetwork.gr)\n",
    "    component_count = max(components.values())\n",
    "    print(\"Connected component count:\", component_count)\n",
    "    analize_components(coauthorNetwork, components, 0)\n",
    "    analize_components(coauthorNetwork, components, 1)"
   ]
  },
  {
   "cell_type": "code",
   "execution_count": 42,
   "metadata": {
    "collapsed": false
   },
   "outputs": [],
   "source": [
    "#run_analyse(\"./data/authors/Medical Informatics.txt\")\n",
    "#run_analyse(\"./data/authors/Database.txt\")\n",
    "#run_analyse(\"./data/authors/Data Mining.txt\")\n",
    "#run_analyse(\"./data/authors/Theory.txt\")\n",
    "#run_analyse(\"./data/authors/Visualization.txt\")\n"
   ]
  },
  {
   "cell_type": "code",
   "execution_count": 47,
   "metadata": {
    "collapsed": false
   },
   "outputs": [
    {
     "data": {
      "text/plain": [
       "[1, 2, 3, 4]"
      ]
     },
     "execution_count": 47,
     "metadata": {},
     "output_type": "execute_result"
    }
   ],
   "source": [
    "a = [1,2,3,4,5,6,7,8,9,10,11]\n",
    "a[:round(len(a) * 0.4)]"
   ]
  }
 ],
 "metadata": {
  "anaconda-cloud": {},
  "kernelspec": {
   "display_name": "Python [default]",
   "language": "python",
   "name": "python3"
  },
  "language_info": {
   "codemirror_mode": {
    "name": "ipython",
    "version": 3
   },
   "file_extension": ".py",
   "mimetype": "text/x-python",
   "name": "python",
   "nbconvert_exporter": "python",
   "pygments_lexer": "ipython3",
   "version": "3.5.2"
  }
 },
 "nbformat": 4,
 "nbformat_minor": 0
}
