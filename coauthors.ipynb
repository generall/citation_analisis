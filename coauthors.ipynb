{
 "cells": [
  {
   "cell_type": "code",
   "execution_count": 1,
   "metadata": {
    "collapsed": false
   },
   "outputs": [],
   "source": [
    "#from pygraph.classes.graph import graph\n",
    "#from pygraph.readwrite import dot\n",
    "#from pygraph.algorithms.minmax import shortest_path\n",
    "#from pygraph.algorithms.accessibility import connected_components\n",
    "#from pygraph.algorithms.pagerank import pagerank"
   ]
  },
  {
   "cell_type": "code",
   "execution_count": 2,
   "metadata": {
    "collapsed": true
   },
   "outputs": [],
   "source": [
    "import numpy as np\n",
    "import matplotlib.mlab as mlab\n",
    "import matplotlib.pyplot as plt\n",
    "import re\n",
    "%matplotlib inline"
   ]
  },
  {
   "cell_type": "code",
   "execution_count": 3,
   "metadata": {
    "collapsed": true
   },
   "outputs": [],
   "source": [
    "import itertools\n",
    "import random\n",
    "import statistics"
   ]
  },
  {
   "cell_type": "code",
   "execution_count": 49,
   "metadata": {
    "collapsed": true
   },
   "outputs": [],
   "source": [
    "from scipy.stats import power_divergence"
   ]
  },
  {
   "cell_type": "code",
   "execution_count": null,
   "metadata": {
    "collapsed": true
   },
   "outputs": [],
   "source": [
    "from sklearn.linear_model import LinearRegression"
   ]
  },
  {
   "cell_type": "code",
   "execution_count": 4,
   "metadata": {
    "collapsed": true
   },
   "outputs": [],
   "source": [
    "from network import *"
   ]
  },
  {
   "cell_type": "code",
   "execution_count": 5,
   "metadata": {
    "collapsed": true
   },
   "outputs": [],
   "source": [
    "import math"
   ]
  },
  {
   "cell_type": "code",
   "execution_count": 6,
   "metadata": {
    "collapsed": true
   },
   "outputs": [],
   "source": [
    "from loaders import *"
   ]
  },
  {
   "cell_type": "code",
   "execution_count": 7,
   "metadata": {
    "collapsed": true
   },
   "outputs": [],
   "source": [
    "from IPython.core.display import Image, display"
   ]
  },
  {
   "cell_type": "code",
   "execution_count": 8,
   "metadata": {
    "collapsed": true
   },
   "outputs": [],
   "source": [
    "def construct_graph_filtered(old_graph, node_predicate, egde_predicate):\n",
    "    new_graph = nx.Graph()\n",
    "    for node in old_graph.nodes():\n",
    "        if node_predicate(node):\n",
    "            new_graph.add_node(node)\n",
    "    for edge in old_graph.edges():\n",
    "        if node_predicate(edge[0]) and node_predicate(edge[1]) and egde_predicate(edge):\n",
    "            new_graph.add_edge(edge)\n",
    "    return new_graph"
   ]
  },
  {
   "cell_type": "code",
   "execution_count": 9,
   "metadata": {
    "collapsed": false
   },
   "outputs": [],
   "source": [
    "# calculate distance distribution for \n",
    "# detect small world phenomenon\n",
    "def get_distance_stat(graph, n):\n",
    "    stat = {}\n",
    "    summ = len(graph.nodes()) * n\n",
    "    for i in range(n): # iterative calculation of shortest path\n",
    "        random_author = random.choice(graph.nodes())\n",
    "        distances = nx.shortest_path_length(graph, random_author)\n",
    "        for x in distances.values():\n",
    "            stat[x] = stat.get(x, 0) + 1;\n",
    "    return dict( (key, value / summ) for key, value in stat.items() )\n",
    "        "
   ]
  },
  {
   "cell_type": "code",
   "execution_count": 10,
   "metadata": {
    "collapsed": true
   },
   "outputs": [],
   "source": [
    "from itertools import islice\n",
    "\n",
    "def take(n, iterable):\n",
    "    \"Return first n items of the iterable as a list\"\n",
    "    return list(islice(iterable, n))"
   ]
  },
  {
   "cell_type": "code",
   "execution_count": 11,
   "metadata": {
    "collapsed": true
   },
   "outputs": [],
   "source": [
    "import networkx as nx\n",
    "#calculate centrality statistics\n",
    "def get_centrality_stat(graph):\n",
    "    N = 10\n",
    "    centrality_stat = nx.degree_centrality(graph)\n",
    "    print(\"----------\")\n",
    "    print(\"Average degree node centrality:\", sum(centrality_stat.values())/len(centrality_stat) )\n",
    "    \n",
    "    max_centrality = max(centrality_stat.values())\n",
    "    print(\"Maxumum degree node centrality:\", max_centrality)\n",
    "    \n",
    "    nodes_num = len(graph.nodes())\n",
    "    print(\"Degree graph centrality:\", \n",
    "          sum([max_centrality - x for x in centrality_stat.values()])/((nodes_num - 1)*(nodes_num - 2)))\n",
    "    \n",
    "    print(\"----------\")\n",
    "    \n",
    "    return dict((key, centrality_stat.get(key)) for key in take(N, centrality_stat) )\n",
    "        "
   ]
  },
  {
   "cell_type": "code",
   "execution_count": 42,
   "metadata": {
    "collapsed": false
   },
   "outputs": [],
   "source": [
    "def calc_pagerank(graph):\n",
    "    TOP = 50\n",
    "    percent_threshold = 0.1\n",
    "    weighted_nodes = nx.pagerank(graph)\n",
    "    sorted_nodes = sorted(weighted_nodes.items(), key = lambda pair: pair[1], reverse=True)\n",
    "    node_ranks = dict( (val, idx) for idx, val in enumerate(sorted_nodes))\n",
    "    print(sorted_nodes[0:TOP])\n",
    "    top_subgraph = graph.subgraph([x[0] for x in sorted_nodes[0:TOP]])\n",
    "    return (top_subgraph, weighted_nodes, sorted_nodes)\n",
    "    "
   ]
  },
  {
   "cell_type": "code",
   "execution_count": 13,
   "metadata": {
    "collapsed": true
   },
   "outputs": [],
   "source": [
    "def plot_dict(stat):\n",
    "    plt.plot([x for x in stat.keys()], [x for x in stat.values()])\n",
    "    plt.show()"
   ]
  },
  {
   "cell_type": "code",
   "execution_count": 34,
   "metadata": {
    "collapsed": true
   },
   "outputs": [],
   "source": [
    "def plot_weighet_graph(graph, weights=None):\n",
    "    if weights == None:\n",
    "        weights = [1] * len(graph.nodes())\n",
    "    \n",
    "    nodesize = [weights[v] * 10000 for v in graph]\n",
    "    try:\n",
    "        pos=nx.nx_agraph.graphviz_layout(graph)\n",
    "    except:\n",
    "        pos=nx.spring_layout(graph,iterations=20)\n",
    "    nx.draw(graph, node_size=nodesize, pos=pos, node_color=\"w\")\n",
    "    nx.draw_networkx_labels(graph, pos)\n",
    "    "
   ]
  },
  {
   "cell_type": "code",
   "execution_count": 46,
   "metadata": {
    "collapsed": false
   },
   "outputs": [
    {
     "name": "stdout",
     "output_type": "stream",
     "text": [
      "Uniq authors: 1327\n"
     ]
    }
   ],
   "source": [
    "coauthorNetwork = load_with_loader(\"./data/out_test.txt\", parse_dataset_file, lambda article: 1995 < article.year < 2000)"
   ]
  },
  {
   "cell_type": "code",
   "execution_count": 48,
   "metadata": {
    "collapsed": true
   },
   "outputs": [],
   "source": [
    "def get_time_seriece(weights_per_period, node):\n",
    "    return [weights.get(node, 0.0) for weights in weights_per_period]"
   ]
  },
  {
   "cell_type": "code",
   "execution_count": null,
   "metadata": {
    "collapsed": true
   },
   "outputs": [],
   "source": [
    "def get_weights_in_period(file ,start, end):\n",
    "    coauthorNetwork = load_with_loader(file, parse_dataset_file, lambda article: start <= article.year < end)\n",
    "    (auth_subgraph, auth_weights, auth_sorted_nodes) = calc_pagerank(coauthorNetwork.gr)\n",
    "    (cite_subgraph, cite_weights, cite_sorted_nodes) = calc_pagerank(coauthorNetwork.cgr)\n",
    "    return ((auth_weights, auth_sorted_nodes), (cite_weights, cite_sorted_nodes) )"
   ]
  },
  {
   "cell_type": "code",
   "execution_count": 47,
   "metadata": {
    "collapsed": false
   },
   "outputs": [
    {
     "name": "stdout",
     "output_type": "stream",
     "text": [
      "[('Mark Guzdial', 0.0026592196203747798), ('E. R. Hancock', 0.0017962633306878556), ('N. Ahuja', 0.0017305387590768467), ('J. Kittler', 0.0017257339419949336), ('Y. Lecourtier', 0.001590098733871055), ('Gerhard Fischer', 0.001585525402123144), ('Don Tica', 0.001526093427411262), ('N. Yokoya', 0.001494938162414411), ('Thomas Eiter', 0.001494938162414411), ('Pere Garcia', 0.0014710935583763264), ('C. Y. Suen', 0.0014416857946968013), ('Peter Hagoort', 0.0014416857946968013), ('R. P. W. Duin', 0.0013669231474266442), ('D. Barba', 0.001366923147426644), ('N. Hagita', 0.001331317755351859), ('Rick Barba', 0.001331317755351859), ('J. Ghosh', 0.001331317755351859), ('Daniel C. Edelson', 0.001331317755351859), ('Y-S. Chen', 0.001331317755351859), ('S. Y. Yuen', 0.001331317755351859), ('S. Dellepiane', 0.001331317755351859), ('Philip J. Smith', 0.001331317755351859), ('S. Salem', 0.0013238006887107748), ('A. Rosenfeld', 0.0013238006887107748), ('David Chong', 0.0013238006887107748), ('Elliot Soloway', 0.0012969886005359502), ('K. Patterson', 0.0012714454739060417), ('C. J. Price', 0.0012714454739060417), ('Kevin Sakamoto', 0.0011927644958402565), ('M. Nappi', 0.0011438435182101639), ('S. Vitulano', 0.0011438435182101639), ('R. Takamatsu', 0.0011438435182101639), ('M. Sato', 0.0011438435182101639), ('Janet L. Kolodner', 0.0010185387252864594), ('P. Bosdogianni', 0.0009999805424034636), ('M. Petrou', 0.0009999805424034636), ('H. Kalviainen', 0.0009999805424034636), ('David Lyons', 0.0009903499331849173), ('James Reed', 0.0009903499331849173), ('Terry Madden', 0.0009903499331849173), ('Gene Alloway', 0.0009903499331849173), ('Joseph Krajcik', 0.0009903499331849173), ('Nathan Bos', 0.000990349933184917), ('Ioanna Vekiri', 0.000990349933184917), ('Tracy Hammerman', 0.000990349933184917), ('Raven Wallace', 0.000990349933184917), ('Nancy Scala', 0.000990349933184917), ('Elisabeth Klann', 0.000990349933184917), ('Jon Margerum-Leys', 0.000990349933184917), ('Kathleen Hamel', 0.000990349933184917)]\n",
      "[('Mark Guzdial', 0.0026592196203747798), ('E. R. Hancock', 0.0017962633306878556), ('N. Ahuja', 0.0017305387590768467), ('J. Kittler', 0.0017257339419949336), ('Y. Lecourtier', 0.001590098733871055), ('Gerhard Fischer', 0.001585525402123144), ('Don Tica', 0.001526093427411262), ('N. Yokoya', 0.001494938162414411), ('Thomas Eiter', 0.001494938162414411), ('Pere Garcia', 0.0014710935583763264)]\n"
     ]
    }
   ],
   "source": [
    "# Analyse time series\n",
    "\n",
    "file = \"./data/out_test.txt\"\n",
    "\n",
    "coauthorNetwork = load_with_loader(file, parse_dataset_file)\n",
    "nodes_count = len(coauthorNetwork.gr.nodes())\n",
    "\n",
    "train_authros = coauthorNetwork.gr.nodes()[:nodes_count // 2]\n",
    "test_authors = coauthorNetwork.gr.nodes()[nodes_count // 2:]\n",
    "\n",
    "weights_per_period = []\n",
    "weights_per_period.append(get_weights_in_period(file, 1990, 1995))\n",
    "weights_per_period.append(get_weights_in_period(file, 1995, 2000))\n",
    "weights_per_period.append(get_weights_in_period(file, 2000, 2005))\n",
    "weights_per_period.append(get_weights_in_period(file, 2005, 2010))\n",
    "\n",
    "weights_per_period_auth = [ w[0][0] for x in weights_per_period ]\n",
    "weights_per_period_cite = [ w[1][0] for x in weights_per_period ]\n",
    "\n",
    "x_train = [get_time_seriece(weights_per_period_auth, author) \n",
    "           + get_time_seriece(weights_per_period_cite[0:-1], author) for author in test_authors]\n",
    "y_train = [weights_per_period_cite[-1].get(author, 0.0) for author in test_authors ]\n",
    "\n",
    "print(x_train[0:10])\n",
    "print(y_train[0:10])\n",
    "\n",
    "x_test = [get_time_seriece(weights_per_period_auth, author) \n",
    "           + get_time_seriece(weights_per_period_cite[0:-1], author) for author in test_authors]\n",
    "y_test = [weights_per_period_cite[-1].get(author, 0.0) for author in test_authors ]\n",
    "\n",
    "lm = LinearRegression(normalize=True)\n",
    "lm.fit(x_train, y_train)\n",
    "\n",
    "print(lm.predict(x_test)[0:10])\n",
    "print(y_test[0:10])\n"
   ]
  },
  {
   "cell_type": "code",
   "execution_count": 63,
   "metadata": {
    "collapsed": false,
    "scrolled": true
   },
   "outputs": [],
   "source": [
    "def analize_component(coauthorNetwork, components, component_num):\n",
    "    print(\"----------\")\n",
    "    print(\"Component:\", component_num + 1)\n",
    "    PRECISION = 50 # number of authors to calc avg distance\n",
    "\n",
    "    component_sizes = dict( (idx, len(c)) for idx, c in enumerate(components) )\n",
    "\n",
    "    the_component = components[component_num]\n",
    "\n",
    "    component_subgraph = coauthorNetwork.gr.subgraph(the_component)\n",
    "    \n",
    "    print(\"Authors count:\",len(component_subgraph.nodes()))\n",
    "    stat = get_distance_stat(component_subgraph, PRECISION)\n",
    "    \n",
    "    print(\"Mean distance:\", sum([value * key for key, value in stat.items()]))\n",
    "    print(\" \")\n",
    "    print(\"Distance distribution\")\n",
    "    plot_dict(stat)\n",
    "    \n",
    "    cstat = get_centrality_stat(coauthorNetwork.cgr)\n",
    "    print(\"Degree Nodes Centrality (first N elements):\", cstat)\n",
    "    #print(stat)\n",
    "\n"
   ]
  },
  {
   "cell_type": "code",
   "execution_count": 30,
   "metadata": {
    "collapsed": false
   },
   "outputs": [],
   "source": [
    "def load_with_loader(file, loader, article_filter = None):\n",
    "    coauthorNetwork = CoauthorNetwork()\n",
    "    if article_filter == None:\n",
    "        article_filter = lambda x: True\n",
    "    for article in loader(file):\n",
    "        if article_filter(article):\n",
    "            coauthorNetwork.add_article(article)\n",
    "\n",
    "    print(\"Uniq authors:\", len([x for x in coauthorNetwork.author_to_article.keys()]))\n",
    "    return coauthorNetwork\n",
    "    \n",
    "#file = \"./data/authors/Medical Informatics.txt\"\n",
    "#file = \"./data/out_test.txt\"\n",
    "#coauthorNetwork = analyse(file, parse_dataset_file)\n",
    "#components = connected_components(coauthorNetwork.gr)\n",
    "\n",
    "\n",
    "#!dot 'graph.dot' -Tpng -o \"graph.png\"\n",
    "#display(Image('graph.png' ))"
   ]
  },
  {
   "cell_type": "code",
   "execution_count": 61,
   "metadata": {
    "collapsed": false
   },
   "outputs": [],
   "source": [
    "def run_analyse(file, article_filter = None):\n",
    "    print(\"Dataset:\", file)\n",
    "    coauthorNetwork = load_with_loader(file, parse_dataset_file, article_filter)\n",
    "    \n",
    "    components = [c for c in sorted(nx.connected_components(coauthorNetwork.gr), key=len, reverse=True)]\n",
    "    \n",
    "    components_sizes = dict((idx, math.log(float(len(c)))) for idx, c in enumerate(components))\n",
    "    print(\" \")\n",
    "    print(\"Connected component distribution (log-scale)\")\n",
    "    plot_dict(components_sizes)\n",
    "    \n",
    "    print(power_divergence([len(c) for c in components]))\n",
    "    \n",
    "    #components = connected_components(coauthorNetwork.gr)\n",
    "    component_count = len(components)\n",
    "    print(\"Connected component count:\", component_count)\n",
    "    \n",
    "    analize_component(coauthorNetwork, components, 0)"
   ]
  },
  {
   "cell_type": "code",
   "execution_count": 64,
   "metadata": {
    "collapsed": false
   },
   "outputs": [
    {
     "name": "stdout",
     "output_type": "stream",
     "text": [
      "Dataset: ./data/out_test.txt\n",
      "Uniq authors: 42619\n",
      " \n",
      "Connected component distribution (log-scale)\n"
     ]
    },
    {
     "data": {
      "image/png": "[encoded data removed]",
      "text/plain": [
       "<matplotlib.figure.Figure at 0x7fda7b3e4c18>"
      ]
     },
     "metadata": {},
     "output_type": "display_data"
    },
    {
     "name": "stdout",
     "output_type": "stream",
     "text": [
      "Power_divergenceResult(statistic=3128355.7077359874, pvalue=0.0)\n",
      "Connected component count: 15871\n",
      "----------\n",
      "Component: 1\n",
      "Authors count: 2870\n",
      "Mean distance: 12.924613240418113\n",
      " \n",
      "Distance distribution\n"
     ]
    },
    {
     "data": {
      "image/png": "[encoded data removed]",
      "text/plain": [
       "<matplotlib.figure.Figure at 0x7fda7ad8d160>"
      ]
     },
     "metadata": {},
     "output_type": "display_data"
    },
    {
     "name": "stdout",
     "output_type": "stream",
     "text": [
      "----------\n",
      "Average degree node centrality: 2.314708766522422e-05\n",
      "Maxumum degree node centrality: 0.001685690892452921\n",
      "Degree graph centrality: 4.003814186637142e-08\n",
      "----------\n",
      "Degree Nodes Centrality (first N elements): {'438401': 2.4081298463613157e-05, '11449': 0.0, '14561': 0.0, '27154': 7.224389539083947e-05, '19618': 0.0, '456394': 2.4081298463613157e-05, '7128': 0.0, '576182': 2.4081298463613157e-05, '13454': 0.0, '10906': 0.0}\n"
     ]
    }
   ],
   "source": [
    "run_analyse(\"./data/out_test.txt\")\n",
    "#run_analyse(\"./data/authors/Database.txt\")\n",
    "#run_analyse(\"./data/authors/Data Mining.txt\")\n",
    "#run_analyse(\"./data/authors/Theory.txt\")\n",
    "#run_analyse(\"./data/authors/Visualization.txt\")\n"
   ]
  },
  {
   "cell_type": "code",
   "execution_count": null,
   "metadata": {
    "collapsed": true
   },
   "outputs": [],
   "source": []
  }
 ],
 "metadata": {
  "anaconda-cloud": {},
  "kernelspec": {
   "display_name": "Python 3",
   "language": "python",
   "name": "python3"
  },
  "language_info": {
   "codemirror_mode": {
    "name": "ipython",
    "version": 3
   },
   "file_extension": ".py",
   "mimetype": "text/x-python",
   "name": "python",
   "nbconvert_exporter": "python",
   "pygments_lexer": "ipython3",
   "version": "3.5.1"
  }
 },
 "nbformat": 4,
 "nbformat_minor": 0
}
