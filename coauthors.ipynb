{
 "cells": [
  {
   "cell_type": "code",
   "execution_count": 1,
   "metadata": {
    "collapsed": false
   },
   "outputs": [],
   "source": [
    "#from pygraph.classes.graph import graph\n",
    "#from pygraph.readwrite import dot\n",
    "#from pygraph.algorithms.minmax import shortest_path\n",
    "#from pygraph.algorithms.accessibility import connected_components\n",
    "#from pygraph.algorithms.pagerank import pagerank"
   ]
  },
  {
   "cell_type": "code",
   "execution_count": 2,
   "metadata": {
    "collapsed": true
   },
   "outputs": [],
   "source": [
    "import numpy as np\n",
    "import matplotlib.mlab as mlab\n",
    "import matplotlib.pyplot as plt\n",
    "import re\n",
    "%matplotlib inline"
   ]
  },
  {
   "cell_type": "code",
   "execution_count": 3,
   "metadata": {
    "collapsed": true
   },
   "outputs": [],
   "source": [
    "import itertools\n",
    "import random\n",
    "import statistics"
   ]
  },
  {
   "cell_type": "code",
   "execution_count": 4,
   "metadata": {
    "collapsed": true
   },
   "outputs": [],
   "source": [
    "from scipy.stats import power_divergence"
   ]
  },
  {
   "cell_type": "code",
   "execution_count": 5,
   "metadata": {
    "collapsed": true
   },
   "outputs": [],
   "source": [
    "from sklearn.linear_model import LinearRegression"
   ]
  },
  {
   "cell_type": "code",
   "execution_count": 6,
   "metadata": {
    "collapsed": false
   },
   "outputs": [],
   "source": [
    "from network import *"
   ]
  },
  {
   "cell_type": "code",
   "execution_count": 7,
   "metadata": {
    "collapsed": true
   },
   "outputs": [],
   "source": [
    "import math"
   ]
  },
  {
   "cell_type": "code",
   "execution_count": 8,
   "metadata": {
    "collapsed": true
   },
   "outputs": [],
   "source": [
    "from loaders import *"
   ]
  },
  {
   "cell_type": "code",
   "execution_count": 9,
   "metadata": {
    "collapsed": true
   },
   "outputs": [],
   "source": [
    "from IPython.core.display import Image, display"
   ]
  },
  {
   "cell_type": "code",
   "execution_count": 10,
   "metadata": {
    "collapsed": true
   },
   "outputs": [],
   "source": [
    "def construct_graph_filtered(old_graph, node_predicate, egde_predicate):\n",
    "    new_graph = nx.Graph()\n",
    "    for node in old_graph.nodes():\n",
    "        if node_predicate(node):\n",
    "            new_graph.add_node(node)\n",
    "    for edge in old_graph.edges():\n",
    "        if node_predicate(edge[0]) and node_predicate(edge[1]) and egde_predicate(edge):\n",
    "            new_graph.add_edge(edge)\n",
    "    return new_graph"
   ]
  },
  {
   "cell_type": "code",
   "execution_count": 11,
   "metadata": {
    "collapsed": false
   },
   "outputs": [],
   "source": [
    "# calculate distance distribution for \n",
    "# detect small world phenomenon\n",
    "def get_distance_stat(graph, n):\n",
    "    stat = {}\n",
    "    summ = len(graph.nodes()) * n\n",
    "    for i in range(n): # iterative calculation of shortest path\n",
    "        random_author = random.choice(graph.nodes())\n",
    "        distances = nx.shortest_path_length(graph, random_author)\n",
    "        for x in distances.values():\n",
    "            stat[x] = stat.get(x, 0) + 1;\n",
    "    return dict( (key, value / summ) for key, value in stat.items() )\n",
    "        "
   ]
  },
  {
   "cell_type": "code",
   "execution_count": 12,
   "metadata": {
    "collapsed": true
   },
   "outputs": [],
   "source": [
    "from itertools import islice\n",
    "\n",
    "def take(n, iterable):\n",
    "    \"Return first n items of the iterable as a list\"\n",
    "    return list(islice(iterable, n))"
   ]
  },
  {
   "cell_type": "code",
   "execution_count": 13,
   "metadata": {
    "collapsed": false
   },
   "outputs": [],
   "source": [
    "import networkx as nx\n",
    "#calculate centrality statistics\n",
    "def get_centrality_stat(graph):\n",
    "    N = len(graph.nodes())\n",
    "    centrality_stat = nx.degree_centrality(graph)\n",
    "    print(\"----------\")\n",
    "    print(\"Average degree node centrality:\", sum(centrality_stat.values())/len(centrality_stat) )\n",
    "    \n",
    "    max_centrality = max(centrality_stat.values())\n",
    "    print(\"Maxumum degree node centrality:\", max_centrality)\n",
    "    \n",
    "    nodes_num = len(graph.nodes())\n",
    "    print(\"Degree graph centrality:\", \n",
    "          sum([max_centrality - x for x in centrality_stat.values()])/((nodes_num - 1)*(nodes_num - 2)))\n",
    "    \n",
    "    print(\"----------\")\n",
    "    return [math.log(value + 1) if value > 0 else 0 for i, value in centrality_stat.items()]\n",
    "        "
   ]
  },
  {
   "cell_type": "code",
   "execution_count": 14,
   "metadata": {
    "collapsed": false
   },
   "outputs": [],
   "source": [
    "def calc_pagerank(graph):\n",
    "    TOP = 50\n",
    "    percent_threshold = 0.1\n",
    "    weighted_nodes = nx.pagerank(graph)\n",
    "    sorted_nodes = sorted(weighted_nodes.items(), key = lambda pair: pair[1], reverse=True)\n",
    "    node_ranks = dict( (val, idx) for idx, val in enumerate(sorted_nodes))\n",
    "#     print(sorted_nodes[0:TOP])\n",
    "    top_subgraph = graph.subgraph([x[0] for x in sorted_nodes[0:TOP]])\n",
    "    return (top_subgraph, weighted_nodes, sorted_nodes)\n",
    "    "
   ]
  },
  {
   "cell_type": "code",
   "execution_count": 15,
   "metadata": {
    "collapsed": true
   },
   "outputs": [],
   "source": [
    "def plot_dict(stat, xlbl, ylbl):\n",
    "    plt.plot([x for x in stat.keys()], [x for x in stat.values()])\n",
    "    plt.xlabel(xlbl)\n",
    "    plt.ylabel(ylbl)\n",
    "    plt.show()"
   ]
  },
  {
   "cell_type": "code",
   "execution_count": 16,
   "metadata": {
    "collapsed": true
   },
   "outputs": [],
   "source": [
    "def plot_list(stat, xlbl, ylbl):\n",
    "    plt.plot(stat)\n",
    "    plt.xlabel(xlbl)\n",
    "    plt.ylabel(ylbl)\n",
    "    plt.show()"
   ]
  },
  {
   "cell_type": "code",
   "execution_count": 17,
   "metadata": {
    "collapsed": true
   },
   "outputs": [],
   "source": [
    "def plot_weighet_graph(graph, weights=None):\n",
    "    if weights == None:\n",
    "        weights = [1] * len(graph.nodes())\n",
    "    \n",
    "    nodesize = [weights[v] * 10000 for v in graph]\n",
    "    try:\n",
    "        pos=nx.nx_agraph.graphviz_layout(graph)\n",
    "    except:\n",
    "        pos=nx.spring_layout(graph,iterations=20)\n",
    "    nx.draw(graph, node_size=nodesize, pos=pos, node_color=\"w\")\n",
    "    nx.draw_networkx_labels(graph, pos)\n",
    "    "
   ]
  },
  {
   "cell_type": "code",
   "execution_count": 18,
   "metadata": {
    "collapsed": true
   },
   "outputs": [],
   "source": [
    "def get_time_seriece(weights_per_period, node):\n",
    "    return [weights.get(node, 0.0) for weights in weights_per_period]"
   ]
  },
  {
   "cell_type": "code",
   "execution_count": 19,
   "metadata": {
    "collapsed": true
   },
   "outputs": [],
   "source": [
    "def get_weights_in_period(file ,start, end):\n",
    "    coauthorNetwork = load_with_loader(file, parse_dataset_file, lambda article: start <= article.year < end)\n",
    "    (auth_subgraph, auth_weights, auth_sorted_nodes) = calc_pagerank(coauthorNetwork.gr)\n",
    "    (cite_subgraph, cite_weights, cite_sorted_nodes) = calc_pagerank(coauthorNetwork.cgr)\n",
    "    print(\"Top researchers\", cite_sorted_nodes[:10])\n",
    "    return ((auth_weights, auth_sorted_nodes), (cite_weights, cite_sorted_nodes) )"
   ]
  },
  {
   "cell_type": "code",
   "execution_count": 20,
   "metadata": {
    "collapsed": false,
    "scrolled": true
   },
   "outputs": [],
   "source": [
    "import operator\n",
    "\n",
    "def analize_component(coauthorNetwork, components, component_num):\n",
    "    print(\"----------\")\n",
    "    print(\"Component:\", component_num + 1)\n",
    "    PRECISION = 50 # number of authors to calc avg distance\n",
    "\n",
    "    component_sizes = dict( (idx, len(c)) for idx, c in enumerate(components) )\n",
    "\n",
    "    the_component = components[component_num]\n",
    "\n",
    "    component_subgraph = coauthorNetwork.gr.subgraph(the_component)\n",
    "    \n",
    "    print(\"Authors count:\",len(component_subgraph.nodes()))\n",
    "    stat = get_distance_stat(component_subgraph, PRECISION)\n",
    "    \n",
    "    print(\"Mean distance:\", sum([value * key for key, value in stat.items()]))\n",
    "    print(\" \")\n",
    "    print(\"Distance distribution\")\n",
    "    plot_dict(stat, \"rank\", \"density\")\n",
    "    \n",
    "    cstat = get_centrality_stat(coauthorNetwork.cgr)\n",
    "    sorted_cstat = sorted(cstat, reverse=True)\n",
    "    plot_list(sorted_cstat, \"rank\", \"log node centrality\")\n",
    "#     print(\"Degree Nodes Centrality (first N elements):\", cstat)\n",
    "    #print(stat)\n",
    "\n"
   ]
  },
  {
   "cell_type": "code",
   "execution_count": 21,
   "metadata": {
    "collapsed": false
   },
   "outputs": [],
   "source": [
    "def load_with_loader(file, loader, article_filter = None):\n",
    "    coauthorNetwork = CoauthorNetwork()\n",
    "    if article_filter == None:\n",
    "        article_filter = lambda x: True\n",
    "    for article in loader(file):\n",
    "        if article_filter(article):\n",
    "            coauthorNetwork.add_article(article)\n",
    "    coauthorNetwork.create_cite_graph()\n",
    "\n",
    "    print(\"Uniq authors:\", len([x for x in coauthorNetwork.author_to_article.keys()]))\n",
    "    return coauthorNetwork\n",
    "    \n",
    "#file = \"./data/authors/Medical Informatics.txt\"\n",
    "#file = \"./data/out_test.txt\"\n",
    "#coauthorNetwork = analyse(file, parse_dataset_file)\n",
    "#components = connected_components(coauthorNetwork.gr)\n",
    "\n",
    "\n",
    "#!dot 'graph.dot' -Tpng -o \"graph.png\"\n",
    "#display(Image('graph.png' ))"
   ]
  },
  {
   "cell_type": "code",
   "execution_count": 22,
   "metadata": {
    "collapsed": false
   },
   "outputs": [],
   "source": [
    "def run_analyse(file, article_filter = None):\n",
    "    print(\"Dataset:\", file)\n",
    "    coauthorNetwork = load_with_loader(file, parse_dataset_file, article_filter)\n",
    "    \n",
    "    components = [c for c in sorted(nx.connected_components(coauthorNetwork.gr), key=len, reverse=True)]\n",
    "    \n",
    "    components_sizes = dict((idx, math.log(float(len(c)))) for idx, c in enumerate(components))\n",
    "    print(\" \")\n",
    "    print(\"Connected component distribution (log-scale)\")\n",
    "    plot_dict(components_sizes, \"rank\", \"size(log)\")\n",
    "    \n",
    "    print(power_divergence([len(c) for c in components]))\n",
    "    \n",
    "    #components = connected_components(coauthorNetwork.gr)\n",
    "    component_count = len(components)\n",
    "    print(\"Connected component count:\", component_count)\n",
    "    \n",
    "    analize_component(coauthorNetwork, components, 0)"
   ]
  },
  {
   "cell_type": "code",
   "execution_count": 23,
   "metadata": {
    "collapsed": false
   },
   "outputs": [
    {
     "name": "stdout",
     "output_type": "stream",
     "text": [
      "Dataset: ./data/out_test.txt\n",
      "Uniq authors: 184962\n",
      " \n",
      "Connected component distribution (log-scale)\n"
     ]
    },
    {
     "data": {
      "image/png": "[encoded data removed]",
      "text/plain": [
       "<matplotlib.figure.Figure at 0x7f07eccb8908>"
      ]
     },
     "metadata": {},
     "output_type": "display_data"
    },
    {
     "name": "stdout",
     "output_type": "stream",
     "text": [
      "Power_divergenceResult(statistic=1246421768.3911831, pvalue=0.0)\n",
      "Connected component count: 45147\n",
      "----------\n",
      "Component: 1\n",
      "Authors count: 71460\n",
      "Mean distance: 9.3603744752309\n",
      " \n",
      "Distance distribution\n"
     ]
    },
    {
     "data": {
      "image/png": "[encoded data removed]",
      "text/plain": [
       "<matplotlib.figure.Figure at 0x7f07db71d0b8>"
      ]
     },
     "metadata": {},
     "output_type": "display_data"
    },
    {
     "name": "stdout",
     "output_type": "stream",
     "text": [
      "----------\n",
      "Average degree node centrality: 4.120809198537614e-06\n",
      "Maxumum degree node centrality: 0.000681224690610453\n",
      "Degree graph centrality: 3.6608322999793647e-09\n",
      "----------\n"
     ]
    },
    {
     "data": {
      "image/png": "[encoded data removed]",
      "text/plain": [
       "<matplotlib.figure.Figure at 0x7f07d8bb3f98>"
      ]
     },
     "metadata": {},
     "output_type": "display_data"
    }
   ],
   "source": [
    "run_analyse(\"./data/out_test.txt\")\n",
    "#run_analyse(\"./data/authors/Database.txt\")\n",
    "#run_analyse(\"./data/authors/Data Mining.txt\")\n",
    "#run_analyse(\"./data/authors/Theory.txt\")\n",
    "#run_analyse(\"./data/authors/Visualization.txt\")\n"
   ]
  },
  {
   "cell_type": "code",
   "execution_count": null,
   "metadata": {
    "collapsed": true
   },
   "outputs": [],
   "source": []
  },
  {
   "cell_type": "code",
   "execution_count": 24,
   "metadata": {
    "collapsed": false
   },
   "outputs": [
    {
     "name": "stdout",
     "output_type": "stream",
     "text": [
      "Uniq authors: 184962\n",
      "Uniq authors: 5397\n",
      "Top researchers [('Nancy Chinchor', 0.0012563105852751637), ('Beth M. Sundheim', 0.0006528797040603286), ('Joel J. Luna', 0.0005829514778125361), ('T. Y. Lin', 0.0005829514778125361), ('Terry Rooker', 0.0005829514778125361), ('Jerry R. Hobbs', 0.0004993673115835725), ('Steve Whittaker', 0.00043155911777536333), ('Robert Allen', 0.0004315591177753633), (\"Brid O'Conaill\", 0.0004315591177753633), ('David Garlan', 0.0004315591177753633)]\n",
      "Uniq authors: 45509\n",
      "Top researchers [('Donald E. Knuth', 0.00045727065569892893), ('Bertrand Meyer', 0.00029570920631529044), ('Teuvo Kohonen', 0.00018885763116898235), ('Hiroshi Ishii', 0.00010595343848705338), ('Brygg Ullmer', 0.00010595343848705338), ('Saul Greenberg', 0.00010193694072755973), ('George W. Furnas', 8.683110894260953e-05), ('John Barkley', 8.29257875176766e-05), ('Ravi Sandhu', 8.199190630736655e-05), ('Mark Crovella', 8.05158266654296e-05)]\n",
      "Uniq authors: 26413\n",
      "Top researchers [('Shumin Zhai', 0.0001505327139350266), ('Wei Hong', 0.00011937811974485435), ('Michael J. Franklin', 0.00011937811974485435), ('Samuel Madden', 0.00011937811974485435), ('Joseph M. Hellerstein', 0.00011937811974485434), ('Laura H. F. Barde', 0.00010328911615605697), ('Carl A. Waldspurger', 0.00010326045416560032), ('Jon Driver', 0.00010311239286352902), ('Bart De Bruyn', 0.00010079028693106737), ('Brian Parker', 0.00010065700271249972)]\n",
      "Uniq authors: 124347\n",
      "Top researchers [('Eibe Frank', 0.00020344568956497767), ('Ian H. Witten', 0.00020344568956497767), ('Simon Haykin', 0.00019748141531316927), ('Douglas C. Montgomery', 0.00014278759958169296), ('Christopher M. Bishop', 9.408316762917298e-05), ('Thomas Martin Lillesand', 8.981898678654637e-05), ('David Simchi-Levi', 8.614614908876233e-05), ('Ian F. Akyildiz', 7.464814701800822e-05), ('Sergios Theodoridis', 7.358363361905974e-05), ('Konstantinos Koutroumbas', 7.358363361905974e-05)]\n",
      "(8.042213166227588e-06, 7.725367816283812e-06)\n",
      "(8.0525077067426245e-06, 7.725367816283812e-06)\n",
      "(6.0870777669178362e-06, 9.092509765828232e-06)\n",
      "(1.0747981276857087e-05, 7.725367816283812e-06)\n",
      "(8.0525077067426245e-06, 7.725367816283812e-06)\n",
      "(1.5282294217690957e-06, 0.0)\n",
      "(1.5282294217690957e-06, 0.0)\n",
      "(1.1722022053606914e-06, 0.0)\n",
      "(5.8169812130997863e-06, 7.725367816283812e-06)\n",
      "(8.7648929150519201e-06, 7.725367816283812e-06)\n"
     ]
    }
   ],
   "source": [
    "# Analyse time series\n",
    "\n",
    "file = \"./data/out_test.txt\"\n",
    "\n",
    "coauthorNetwork = load_with_loader(file, parse_dataset_file)\n",
    "nodes_count = len(coauthorNetwork.gr.nodes())\n",
    "\n",
    "train_authros = coauthorNetwork.gr.nodes()[:nodes_count // 2]\n",
    "test_authors = coauthorNetwork.gr.nodes()[nodes_count // 2:]\n",
    "\n",
    "weights_per_period = []\n",
    "weights_per_period.append(get_weights_in_period(file, 1990, 1995))\n",
    "weights_per_period.append(get_weights_in_period(file, 1995, 2000))\n",
    "weights_per_period.append(get_weights_in_period(file, 2000, 2005))\n",
    "weights_per_period.append(get_weights_in_period(file, 2005, 2010))\n",
    "\n",
    "weights_per_period_auth = [ w[0][0] for w in weights_per_period ]\n",
    "weights_per_period_cite = [ w[1][0] for w in weights_per_period ]\n",
    "\n",
    "x_train = [get_time_seriece(weights_per_period_auth, author) \n",
    "           + get_time_seriece(weights_per_period_cite[0:-1], author) for author in test_authors]\n",
    "y_train = [weights_per_period_cite[-1].get(author, 0.0) for author in test_authors ]\n",
    "\n",
    "# print(\"x_train\", x_train[0:10])\n",
    "# print(\"y_train\", y_train[0:10])\n",
    "x_test = [get_time_seriece(weights_per_period_auth, author) \n",
    "           + get_time_seriece(weights_per_period_cite[0:-1], author) for author in test_authors]\n",
    "y_test = [weights_per_period_cite[-1].get(author, 0.0) for author in test_authors ]\n",
    "\n",
    "lm = LinearRegression(normalize=True)\n",
    "lm.fit(x_train, y_train)\n",
    "\n",
    "for pair in zip(lm.predict(x_test)[0:10], y_test[0:10]):\n",
    "    print(pair)\n",
    "    \n",
    "# print(lm.predict(x_test)[0:10])\n",
    "# print(y_test[0:10])\n"
   ]
  }
 ],
 "metadata": {
  "anaconda-cloud": {},
  "kernelspec": {
   "display_name": "Python [default]",
   "language": "python",
   "name": "python3"
  },
  "language_info": {
   "codemirror_mode": {
    "name": "ipython",
    "version": 3
   },
   "file_extension": ".py",
   "mimetype": "text/x-python",
   "name": "python",
   "nbconvert_exporter": "python",
   "pygments_lexer": "ipython3",
   "version": "3.5.2"
  }
 },
 "nbformat": 4,
 "nbformat_minor": 0
}
